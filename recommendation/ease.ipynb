{
 "cells": [
  {
   "cell_type": "code",
   "execution_count": 2,
   "metadata": {},
   "outputs": [
    {
     "name": "stderr",
     "output_type": "stream",
     "text": [
      "/home/moorad/.local/lib/python3.7/site-packages/pandas/compat/__init__.py:124: UserWarning: Could not import the lzma module. Your installed Python is incomplete. Attempting to use lzma compression will result in a RuntimeError.\n",
      "  warnings.warn(msg)\n"
     ]
    }
   ],
   "source": [
    "%run helpers.ipynb"
   ]
  },
  {
   "cell_type": "code",
   "execution_count": 3,
   "metadata": {},
   "outputs": [
    {
     "data": {
      "text/html": [
       "<div>\n",
       "<style scoped>\n",
       "    .dataframe tbody tr th:only-of-type {\n",
       "        vertical-align: middle;\n",
       "    }\n",
       "\n",
       "    .dataframe tbody tr th {\n",
       "        vertical-align: top;\n",
       "    }\n",
       "\n",
       "    .dataframe thead th {\n",
       "        text-align: right;\n",
       "    }\n",
       "</style>\n",
       "<table border=\"1\" class=\"dataframe\">\n",
       "  <thead>\n",
       "    <tr style=\"text-align: right;\">\n",
       "      <th></th>\n",
       "      <th>userId</th>\n",
       "      <th>movieId</th>\n",
       "      <th>rating</th>\n",
       "      <th>timestamp</th>\n",
       "    </tr>\n",
       "  </thead>\n",
       "  <tbody>\n",
       "    <tr>\n",
       "      <th>0</th>\n",
       "      <td>1</td>\n",
       "      <td>1</td>\n",
       "      <td>4.0</td>\n",
       "      <td>964982703</td>\n",
       "    </tr>\n",
       "    <tr>\n",
       "      <th>1</th>\n",
       "      <td>1</td>\n",
       "      <td>3</td>\n",
       "      <td>4.0</td>\n",
       "      <td>964981247</td>\n",
       "    </tr>\n",
       "    <tr>\n",
       "      <th>2</th>\n",
       "      <td>1</td>\n",
       "      <td>6</td>\n",
       "      <td>4.0</td>\n",
       "      <td>964982224</td>\n",
       "    </tr>\n",
       "    <tr>\n",
       "      <th>3</th>\n",
       "      <td>1</td>\n",
       "      <td>47</td>\n",
       "      <td>5.0</td>\n",
       "      <td>964983815</td>\n",
       "    </tr>\n",
       "    <tr>\n",
       "      <th>4</th>\n",
       "      <td>1</td>\n",
       "      <td>50</td>\n",
       "      <td>5.0</td>\n",
       "      <td>964982931</td>\n",
       "    </tr>\n",
       "    <tr>\n",
       "      <th>...</th>\n",
       "      <td>...</td>\n",
       "      <td>...</td>\n",
       "      <td>...</td>\n",
       "      <td>...</td>\n",
       "    </tr>\n",
       "    <tr>\n",
       "      <th>100831</th>\n",
       "      <td>610</td>\n",
       "      <td>166534</td>\n",
       "      <td>4.0</td>\n",
       "      <td>1493848402</td>\n",
       "    </tr>\n",
       "    <tr>\n",
       "      <th>100832</th>\n",
       "      <td>610</td>\n",
       "      <td>168248</td>\n",
       "      <td>5.0</td>\n",
       "      <td>1493850091</td>\n",
       "    </tr>\n",
       "    <tr>\n",
       "      <th>100833</th>\n",
       "      <td>610</td>\n",
       "      <td>168250</td>\n",
       "      <td>5.0</td>\n",
       "      <td>1494273047</td>\n",
       "    </tr>\n",
       "    <tr>\n",
       "      <th>100834</th>\n",
       "      <td>610</td>\n",
       "      <td>168252</td>\n",
       "      <td>5.0</td>\n",
       "      <td>1493846352</td>\n",
       "    </tr>\n",
       "    <tr>\n",
       "      <th>100835</th>\n",
       "      <td>610</td>\n",
       "      <td>170875</td>\n",
       "      <td>3.0</td>\n",
       "      <td>1493846415</td>\n",
       "    </tr>\n",
       "  </tbody>\n",
       "</table>\n",
       "<p>100836 rows × 4 columns</p>\n",
       "</div>"
      ],
      "text/plain": [
       "        userId  movieId  rating   timestamp\n",
       "0            1        1     4.0   964982703\n",
       "1            1        3     4.0   964981247\n",
       "2            1        6     4.0   964982224\n",
       "3            1       47     5.0   964983815\n",
       "4            1       50     5.0   964982931\n",
       "...        ...      ...     ...         ...\n",
       "100831     610   166534     4.0  1493848402\n",
       "100832     610   168248     5.0  1493850091\n",
       "100833     610   168250     5.0  1494273047\n",
       "100834     610   168252     5.0  1493846352\n",
       "100835     610   170875     3.0  1493846415\n",
       "\n",
       "[100836 rows x 4 columns]"
      ]
     },
     "execution_count": 3,
     "metadata": {},
     "output_type": "execute_result"
    }
   ],
   "source": [
    "(ratings,_,_) = load_ML_100k()\n",
    "\n",
    "ratings"
   ]
  },
  {
   "cell_type": "code",
   "execution_count": 117,
   "metadata": {},
   "outputs": [],
   "source": [
    "from sklearn.preprocessing import LabelEncoder\n",
    "from scipy.sparse import csr_matrix\n",
    "from multiprocessing import Pool, cpu_count\n",
    "class EASE:\n",
    "\tdef __init__(self, top_k = 10):\n",
    "\t\tself.top_k = top_k\n",
    "\t\tself.user_encoder = LabelEncoder()\n",
    "\t\tself.item_encoder = LabelEncoder()\n",
    "\n",
    "\tdef fit(self, ratings, lambda_ = 0.5):\n",
    "\t\tusers = self.user_encoder.fit_transform(ratings.loc[:,'user_id'])\n",
    "\t\titems = self.item_encoder.fit_transform(ratings.loc[:,'item_id'])\n",
    "  \n",
    "\t\tvalues = np.ones(ratings.shape[0])\n",
    "  \n",
    "\t\tX = csr_matrix((values, (users, items)))\n",
    "  \n",
    "\t\tG = X.T.dot(X).toarray()\n",
    "\t\tdiagIndices = np.diag_indices(G.shape[0])\n",
    "\t\tG[diagIndices] += lambda_\n",
    "\t\tP = np.linalg.inv(G)\n",
    "\t\tB = P / (-np.diag(P))\n",
    "\t\tB[diagIndices] = 0\n",
    "\n",
    "\t\tself.pred = X.dot(B)\n",
    "  \n",
    "\tdef predict(self, train, users, items):\n",
    "\t\titems = self.item_encoder.transform(items)\n",
    "\t\tdd = train.loc[train.user_id.isin(users)]\n",
    "\t\tdd['ci'] = self.item_encoder.transform(dd.item_id)\n",
    "\t\tdd['cu'] = self.user_encoder.transform(dd.user_id)\n",
    "\t\tdisplay(dd)\n",
    "\t\tg = dd.groupby('cu')\n",
    "\t\twith Pool(cpu_count()) as p:\n",
    "\t\t\tuser_preds = p.starmap(\n",
    "\t\t\t\tself.predict_for_user,\n",
    "\t\t\t\t[(user, group, self.pred[user, :], items, self.top_k) for user, group in g],\n",
    "\t\t\t)\n",
    "\t\tdf = pd.concat(user_preds)\n",
    "\t\tdf['item_id'] = self.item_encoder.inverse_transform(df['item_id'])\n",
    "\t\tdf['user_id'] = self.user_encoder.inverse_transform(df['user_id'])\n",
    "\t\treturn df\n",
    "\n",
    "\t@staticmethod\n",
    "\tdef predict_for_user(user, group, pred, items, k):\n",
    "\t\twatched = set(group['ci'])\n",
    "\t\tcandidates = [item for item in items if item not in watched]\n",
    "\t\tpred = np.take(pred, candidates)\n",
    "\t\tres = np.argpartition(pred, -k)[-k:]\n",
    "\t\tr = pd.DataFrame(\n",
    "\t\t\t{\n",
    "\t\t\t\t\"user_id\": [user] * len(res),\n",
    "\t\t\t\t\"item_id\": np.take(candidates, res),\n",
    "\t\t\t\t\"score\": np.take(pred, res),\n",
    "\t\t\t}\n",
    "\t\t).sort_values('score', ascending=False)\n",
    "\t\treturn r"
   ]
  },
  {
   "cell_type": "code",
   "execution_count": 171,
   "metadata": {},
   "outputs": [],
   "source": [
    "from sklearn.preprocessing import LabelEncoder\n",
    "from scipy.sparse import csr_matrix, identity\n",
    "\n",
    "from multiprocessing import Pool, cpu_count\n",
    "class EASE2:\n",
    "\tdef __init__(self, top_k = 10, lambda_ = 0.5):\n",
    "\t\tself.top_k = top_k\n",
    "\t\tself.lambda_ = lambda_\n",
    "\t\t# self.user_encoder = LabelEncoder()\n",
    "\t\t# self.item_encoder = LabelEncoder()\n",
    "\n",
    "\tdef fit(self, training):\n",
    "\t\tusers = training.user_id.values\n",
    "\t\titems = training.item_id.values\n",
    "\t\tratings = training.rating.values\n",
    "  \n",
    "\t\tvalues = np.ones(training.shape[0])\n",
    "  \n",
    "\t\tX = csr_matrix((ratings, (users, items)))\n",
    "  \n",
    "\t\tG = X.T.dot(X).toarray()\n",
    "\t\tdiagIndices = np.diag_indices(G.shape[0])\n",
    "\t\tG[diagIndices] += lambda_\n",
    "\t\tP = np.linalg.inv(G)\n",
    "\t\tB = P / (-np.diag(P))\n",
    "\t\tB[diagIndices] = 0\n",
    "\n",
    "\t\tself.item_similarity = B # item_num * item_num\n",
    "\t\tself.item_similarity = np.array(self.item_similarity)\n",
    "\t\tself.interaction_matrix = X # user_num * item_num\n",
    "  \n",
    "\tdef predict(self, u, i):\n",
    "\t\treturn self.interaction_matrix[u, :].multiply(self.item_similarity[:, i].T).sum(axis=1).getA1()[0]\n",
    "\n",
    "\t# def rank(self, test_loader):\n",
    "\t# \trec_ids = None\n",
    "\n",
    "\t# \tfor us, cands_ids in test_loader:\n",
    "\t# \t\tus = us.numpy()\n",
    "\t# \t\tcands_ids = cands_ids.numpy()\n",
    "\n",
    "\t# \t\tslims = np.expand_dims(self.interaction_matrix[us, :].todense(), axis=1) # batch * item_num -> batch * 1* item_num\n",
    "\t# \t\tsims = self.item_similarity[cands_ids, :].transpose(0, 2, 1) # batch * cand_num * item_num -> batch * item_num * cand_num\n",
    "\t# \t\tscores = np.einsum('BNi,BiM -> BNM', slims, sims).squeeze() # batch * 1 * cand_num -> batch * cand_num\n",
    "\t# \t\trank_ids = np.argsort(-scores)[:, :self.topk]\n",
    "\t# \t\trank_list = cands_ids[np.repeat(np.arange(len(rank_ids)).reshape(-1, 1), rank_ids.shape[1], axis=1), rank_ids]\n",
    "\n",
    "\t# \t\trec_ids = rank_list if rec_ids is None else np.vstack([rec_ids, rank_list])\n",
    "\n",
    "\t# \treturn rec_ids\n",
    "\n",
    "\tdef full_rank(self, u):\n",
    "\t\tr = self.interaction_matrix[u, :] @ self.item_similarity\n",
    "\t\tscores = np.array(r).flatten()\n",
    "\n",
    "\t\treturn np.argsort(-scores)[:self.topk]\n"
   ]
  },
  {
   "cell_type": "code",
   "execution_count": 172,
   "metadata": {},
   "outputs": [
    {
     "data": {
      "text/plain": [
       "504"
      ]
     },
     "execution_count": 172,
     "metadata": {},
     "output_type": "execute_result"
    }
   ],
   "source": [
    "from sklearn.model_selection import train_test_split\n",
    "(ratings, movies, _) = load_ML_100k()\n",
    "\n",
    "ratings = ratings.rename(columns={'userId': 'user_id', 'movieId': 'item_id'})\n",
    "movies = movies.rename(columns={'movieId': 'item_id'})\n",
    "\n",
    "(training, testing) = train_test_split(ratings, train_size=0.005)\n",
    "\n",
    "training\n",
    "training.shape[0]"
   ]
  },
  {
   "cell_type": "code",
   "execution_count": 186,
   "metadata": {},
   "outputs": [
    {
     "ename": "KeyError",
     "evalue": "'logger'",
     "output_type": "error",
     "traceback": [
      "\u001b[0;31m---------------------------------------------------------------------------\u001b[0m",
      "\u001b[0;31mKeyError\u001b[0m                                  Traceback (most recent call last)",
      "\u001b[0;32m/tmp/ipykernel_496/2696973784.py\u001b[0m in \u001b[0;36m<module>\u001b[0;34m\u001b[0m\n\u001b[1;32m     13\u001b[0m }\n\u001b[1;32m     14\u001b[0m \u001b[0;34m\u001b[0m\u001b[0m\n\u001b[0;32m---> 15\u001b[0;31m \u001b[0mEASE\u001b[0m\u001b[0;34m(\u001b[0m\u001b[0mconfig\u001b[0m\u001b[0;34m)\u001b[0m\u001b[0;34m\u001b[0m\u001b[0;34m\u001b[0m\u001b[0m\n\u001b[0m\u001b[1;32m     16\u001b[0m \u001b[0;34m\u001b[0m\u001b[0m\n\u001b[1;32m     17\u001b[0m \u001b[0;31m# init_seed(config['seed'], config['reproducibility'])\u001b[0m\u001b[0;34m\u001b[0m\u001b[0;34m\u001b[0m\u001b[0;34m\u001b[0m\u001b[0m\n",
      "\u001b[0;32m~/.local/lib/python3.7/site-packages/daisy/model/EASERecommender.py\u001b[0m in \u001b[0;36m__init__\u001b[0;34m(self, config)\u001b[0m\n\u001b[1;32m     16\u001b[0m \u001b[0;32mclass\u001b[0m \u001b[0mEASE\u001b[0m\u001b[0;34m(\u001b[0m\u001b[0mGeneralRecommender\u001b[0m\u001b[0;34m)\u001b[0m\u001b[0;34m:\u001b[0m\u001b[0;34m\u001b[0m\u001b[0;34m\u001b[0m\u001b[0m\n\u001b[1;32m     17\u001b[0m     \u001b[0;32mdef\u001b[0m \u001b[0m__init__\u001b[0m\u001b[0;34m(\u001b[0m\u001b[0mself\u001b[0m\u001b[0;34m,\u001b[0m \u001b[0mconfig\u001b[0m\u001b[0;34m)\u001b[0m\u001b[0;34m:\u001b[0m\u001b[0;34m\u001b[0m\u001b[0;34m\u001b[0m\u001b[0m\n\u001b[0;32m---> 18\u001b[0;31m         \u001b[0msuper\u001b[0m\u001b[0;34m(\u001b[0m\u001b[0mEASE\u001b[0m\u001b[0;34m,\u001b[0m \u001b[0mself\u001b[0m\u001b[0;34m)\u001b[0m\u001b[0;34m.\u001b[0m\u001b[0m__init__\u001b[0m\u001b[0;34m(\u001b[0m\u001b[0mconfig\u001b[0m\u001b[0;34m)\u001b[0m\u001b[0;34m\u001b[0m\u001b[0;34m\u001b[0m\u001b[0m\n\u001b[0m\u001b[1;32m     19\u001b[0m         \u001b[0mself\u001b[0m\u001b[0;34m.\u001b[0m\u001b[0minter_name\u001b[0m \u001b[0;34m=\u001b[0m \u001b[0mconfig\u001b[0m\u001b[0;34m[\u001b[0m\u001b[0;34m'INTER_NAME'\u001b[0m\u001b[0;34m]\u001b[0m\u001b[0;34m\u001b[0m\u001b[0;34m\u001b[0m\u001b[0m\n\u001b[1;32m     20\u001b[0m         \u001b[0mself\u001b[0m\u001b[0;34m.\u001b[0m\u001b[0miid_name\u001b[0m \u001b[0;34m=\u001b[0m \u001b[0mconfig\u001b[0m\u001b[0;34m[\u001b[0m\u001b[0;34m'IID_NAME'\u001b[0m\u001b[0;34m]\u001b[0m\u001b[0;34m\u001b[0m\u001b[0;34m\u001b[0m\u001b[0m\n",
      "\u001b[0;32m~/.local/lib/python3.7/site-packages/daisy/model/AbstractRecommender.py\u001b[0m in \u001b[0;36m__init__\u001b[0;34m(self, config)\u001b[0m\n\u001b[1;32m     99\u001b[0m         \u001b[0mos\u001b[0m\u001b[0;34m.\u001b[0m\u001b[0menviron\u001b[0m\u001b[0;34m[\u001b[0m\u001b[0;34m'CUDA_VISIBLE_DEVICES'\u001b[0m\u001b[0;34m]\u001b[0m \u001b[0;34m=\u001b[0m \u001b[0mconfig\u001b[0m\u001b[0;34m[\u001b[0m\u001b[0;34m'gpu'\u001b[0m\u001b[0;34m]\u001b[0m\u001b[0;34m\u001b[0m\u001b[0;34m\u001b[0m\u001b[0m\n\u001b[1;32m    100\u001b[0m         \u001b[0mself\u001b[0m\u001b[0;34m.\u001b[0m\u001b[0mdevice\u001b[0m \u001b[0;34m=\u001b[0m \u001b[0;34m'cuda'\u001b[0m \u001b[0;32mif\u001b[0m \u001b[0mtorch\u001b[0m\u001b[0;34m.\u001b[0m\u001b[0mcuda\u001b[0m\u001b[0;34m.\u001b[0m\u001b[0mis_available\u001b[0m\u001b[0;34m(\u001b[0m\u001b[0;34m)\u001b[0m \u001b[0;32melse\u001b[0m \u001b[0;34m'cpu'\u001b[0m\u001b[0;34m\u001b[0m\u001b[0;34m\u001b[0m\u001b[0m\n\u001b[0;32m--> 101\u001b[0;31m         \u001b[0mself\u001b[0m\u001b[0;34m.\u001b[0m\u001b[0mlogger\u001b[0m \u001b[0;34m=\u001b[0m \u001b[0mconfig\u001b[0m\u001b[0;34m[\u001b[0m\u001b[0;34m'logger'\u001b[0m\u001b[0;34m]\u001b[0m\u001b[0;34m\u001b[0m\u001b[0;34m\u001b[0m\u001b[0m\n\u001b[0m\u001b[1;32m    102\u001b[0m \u001b[0;34m\u001b[0m\u001b[0m\n\u001b[1;32m    103\u001b[0m     \u001b[0;32mdef\u001b[0m \u001b[0mfit\u001b[0m\u001b[0;34m(\u001b[0m\u001b[0mself\u001b[0m\u001b[0;34m,\u001b[0m \u001b[0mtrain_loader\u001b[0m\u001b[0;34m)\u001b[0m\u001b[0;34m:\u001b[0m\u001b[0;34m\u001b[0m\u001b[0;34m\u001b[0m\u001b[0m\n",
      "\u001b[0;31mKeyError\u001b[0m: 'logger'"
     ]
    }
   ],
   "source": [
    "# from logging import getLogger\n",
    "from daisy.model.EASERecommender import EASE\n",
    "\n",
    "config = {\n",
    "    \"gpu\": \"0\",\n",
    "\t\"UID_NAME\": 'user_id',\n",
    "\t\"IID_NAME\": 'item_id',\n",
    "\t\"INTER_NAME\": 'rating',\n",
    "\t\"user_num\": 10,\n",
    "\t\"item_num\": 10,\t\n",
    "\t\"reg\": 0.5,\n",
    "\t\"topk\": 10,\n",
    "}\n",
    "\n",
    "EASE(config)\n",
    "\n",
    "# init_seed(config['seed'], config['reproducibility'])\n",
    "\n",
    "# init_logger(config)\n",
    "# logger = getLogger()\n",
    "# logger.info(config)\n",
    "# config['logger'] = logger\n"
   ]
  },
  {
   "cell_type": "code",
   "execution_count": 173,
   "metadata": {},
   "outputs": [
    {
     "ename": "MemoryError",
     "evalue": "Unable to allocate 242. GiB for an array with shape (180264, 180264) and data type float64",
     "output_type": "error",
     "traceback": [
      "\u001b[0;31m---------------------------------------------------------------------------\u001b[0m",
      "\u001b[0;31mMemoryError\u001b[0m                               Traceback (most recent call last)",
      "\u001b[0;32m/tmp/ipykernel_496/4116719918.py\u001b[0m in \u001b[0;36m<module>\u001b[0;34m\u001b[0m\n\u001b[1;32m      1\u001b[0m \u001b[0mmodel\u001b[0m \u001b[0;34m=\u001b[0m \u001b[0mEASE2\u001b[0m\u001b[0;34m(\u001b[0m\u001b[0;34m)\u001b[0m\u001b[0;34m\u001b[0m\u001b[0;34m\u001b[0m\u001b[0m\n\u001b[1;32m      2\u001b[0m \u001b[0;34m\u001b[0m\u001b[0m\n\u001b[0;32m----> 3\u001b[0;31m \u001b[0mmodel\u001b[0m\u001b[0;34m.\u001b[0m\u001b[0mfit\u001b[0m\u001b[0;34m(\u001b[0m\u001b[0mtraining\u001b[0m\u001b[0;34m)\u001b[0m\u001b[0;34m\u001b[0m\u001b[0;34m\u001b[0m\u001b[0m\n\u001b[0m",
      "\u001b[0;32m/tmp/ipykernel_496/2395560555.py\u001b[0m in \u001b[0;36mfit\u001b[0;34m(self, training)\u001b[0m\n\u001b[1;32m     19\u001b[0m                 \u001b[0mX\u001b[0m \u001b[0;34m=\u001b[0m \u001b[0mcsr_matrix\u001b[0m\u001b[0;34m(\u001b[0m\u001b[0;34m(\u001b[0m\u001b[0mratings\u001b[0m\u001b[0;34m,\u001b[0m \u001b[0;34m(\u001b[0m\u001b[0musers\u001b[0m\u001b[0;34m,\u001b[0m \u001b[0mitems\u001b[0m\u001b[0;34m)\u001b[0m\u001b[0;34m)\u001b[0m\u001b[0;34m)\u001b[0m\u001b[0;34m\u001b[0m\u001b[0;34m\u001b[0m\u001b[0m\n\u001b[1;32m     20\u001b[0m \u001b[0;34m\u001b[0m\u001b[0m\n\u001b[0;32m---> 21\u001b[0;31m                 \u001b[0mG\u001b[0m \u001b[0;34m=\u001b[0m \u001b[0mX\u001b[0m\u001b[0;34m.\u001b[0m\u001b[0mT\u001b[0m\u001b[0;34m.\u001b[0m\u001b[0mdot\u001b[0m\u001b[0;34m(\u001b[0m\u001b[0mX\u001b[0m\u001b[0;34m)\u001b[0m\u001b[0;34m.\u001b[0m\u001b[0mtoarray\u001b[0m\u001b[0;34m(\u001b[0m\u001b[0;34m)\u001b[0m\u001b[0;34m\u001b[0m\u001b[0;34m\u001b[0m\u001b[0m\n\u001b[0m\u001b[1;32m     22\u001b[0m                 \u001b[0mdiagIndices\u001b[0m \u001b[0;34m=\u001b[0m \u001b[0mnp\u001b[0m\u001b[0;34m.\u001b[0m\u001b[0mdiag_indices\u001b[0m\u001b[0;34m(\u001b[0m\u001b[0mG\u001b[0m\u001b[0;34m.\u001b[0m\u001b[0mshape\u001b[0m\u001b[0;34m[\u001b[0m\u001b[0;36m0\u001b[0m\u001b[0;34m]\u001b[0m\u001b[0;34m)\u001b[0m\u001b[0;34m\u001b[0m\u001b[0;34m\u001b[0m\u001b[0m\n\u001b[1;32m     23\u001b[0m                 \u001b[0mG\u001b[0m\u001b[0;34m[\u001b[0m\u001b[0mdiagIndices\u001b[0m\u001b[0;34m]\u001b[0m \u001b[0;34m+=\u001b[0m \u001b[0mlambda_\u001b[0m\u001b[0;34m\u001b[0m\u001b[0;34m\u001b[0m\u001b[0m\n",
      "\u001b[0;32m~/.local/lib/python3.7/site-packages/scipy/sparse/compressed.py\u001b[0m in \u001b[0;36mtoarray\u001b[0;34m(self, order, out)\u001b[0m\n\u001b[1;32m   1037\u001b[0m         \u001b[0;32mif\u001b[0m \u001b[0mout\u001b[0m \u001b[0;32mis\u001b[0m \u001b[0;32mNone\u001b[0m \u001b[0;32mand\u001b[0m \u001b[0morder\u001b[0m \u001b[0;32mis\u001b[0m \u001b[0;32mNone\u001b[0m\u001b[0;34m:\u001b[0m\u001b[0;34m\u001b[0m\u001b[0;34m\u001b[0m\u001b[0m\n\u001b[1;32m   1038\u001b[0m             \u001b[0morder\u001b[0m \u001b[0;34m=\u001b[0m \u001b[0mself\u001b[0m\u001b[0;34m.\u001b[0m\u001b[0m_swap\u001b[0m\u001b[0;34m(\u001b[0m\u001b[0;34m'cf'\u001b[0m\u001b[0;34m)\u001b[0m\u001b[0;34m[\u001b[0m\u001b[0;36m0\u001b[0m\u001b[0;34m]\u001b[0m\u001b[0;34m\u001b[0m\u001b[0;34m\u001b[0m\u001b[0m\n\u001b[0;32m-> 1039\u001b[0;31m         \u001b[0mout\u001b[0m \u001b[0;34m=\u001b[0m \u001b[0mself\u001b[0m\u001b[0;34m.\u001b[0m\u001b[0m_process_toarray_args\u001b[0m\u001b[0;34m(\u001b[0m\u001b[0morder\u001b[0m\u001b[0;34m,\u001b[0m \u001b[0mout\u001b[0m\u001b[0;34m)\u001b[0m\u001b[0;34m\u001b[0m\u001b[0;34m\u001b[0m\u001b[0m\n\u001b[0m\u001b[1;32m   1040\u001b[0m         \u001b[0;32mif\u001b[0m \u001b[0;32mnot\u001b[0m \u001b[0;34m(\u001b[0m\u001b[0mout\u001b[0m\u001b[0;34m.\u001b[0m\u001b[0mflags\u001b[0m\u001b[0;34m.\u001b[0m\u001b[0mc_contiguous\u001b[0m \u001b[0;32mor\u001b[0m \u001b[0mout\u001b[0m\u001b[0;34m.\u001b[0m\u001b[0mflags\u001b[0m\u001b[0;34m.\u001b[0m\u001b[0mf_contiguous\u001b[0m\u001b[0;34m)\u001b[0m\u001b[0;34m:\u001b[0m\u001b[0;34m\u001b[0m\u001b[0;34m\u001b[0m\u001b[0m\n\u001b[1;32m   1041\u001b[0m             \u001b[0;32mraise\u001b[0m \u001b[0mValueError\u001b[0m\u001b[0;34m(\u001b[0m\u001b[0;34m'Output array must be C or F contiguous'\u001b[0m\u001b[0;34m)\u001b[0m\u001b[0;34m\u001b[0m\u001b[0;34m\u001b[0m\u001b[0m\n",
      "\u001b[0;32m~/.local/lib/python3.7/site-packages/scipy/sparse/base.py\u001b[0m in \u001b[0;36m_process_toarray_args\u001b[0;34m(self, order, out)\u001b[0m\n\u001b[1;32m   1200\u001b[0m             \u001b[0;32mreturn\u001b[0m \u001b[0mout\u001b[0m\u001b[0;34m\u001b[0m\u001b[0;34m\u001b[0m\u001b[0m\n\u001b[1;32m   1201\u001b[0m         \u001b[0;32melse\u001b[0m\u001b[0;34m:\u001b[0m\u001b[0;34m\u001b[0m\u001b[0;34m\u001b[0m\u001b[0m\n\u001b[0;32m-> 1202\u001b[0;31m             \u001b[0;32mreturn\u001b[0m \u001b[0mnp\u001b[0m\u001b[0;34m.\u001b[0m\u001b[0mzeros\u001b[0m\u001b[0;34m(\u001b[0m\u001b[0mself\u001b[0m\u001b[0;34m.\u001b[0m\u001b[0mshape\u001b[0m\u001b[0;34m,\u001b[0m \u001b[0mdtype\u001b[0m\u001b[0;34m=\u001b[0m\u001b[0mself\u001b[0m\u001b[0;34m.\u001b[0m\u001b[0mdtype\u001b[0m\u001b[0;34m,\u001b[0m \u001b[0morder\u001b[0m\u001b[0;34m=\u001b[0m\u001b[0morder\u001b[0m\u001b[0;34m)\u001b[0m\u001b[0;34m\u001b[0m\u001b[0;34m\u001b[0m\u001b[0m\n\u001b[0m\u001b[1;32m   1203\u001b[0m \u001b[0;34m\u001b[0m\u001b[0m\n\u001b[1;32m   1204\u001b[0m \u001b[0;34m\u001b[0m\u001b[0m\n",
      "\u001b[0;31mMemoryError\u001b[0m: Unable to allocate 242. GiB for an array with shape (180264, 180264) and data type float64"
     ]
    }
   ],
   "source": [
    "model = EASE2()\n",
    "\n",
    "model.fit(training)"
   ]
  },
  {
   "cell_type": "code",
   "execution_count": 129,
   "metadata": {},
   "outputs": [
    {
     "ename": "ValueError",
     "evalue": "y contains previously unseen labels: [108, 137, 179, 183, 201, 220, 285, 295, 298, 310, 336, 386, 495, 547, 563, 573, 600, 632, 638, 698, 803, 876, 1040, 1054, 1116, 1137, 1144, 1156, 1163, 1180, 1337, 1423, 1427, 1440, 1458, 1473, 1496, 1514, 1565, 1574, 1661, 1675, 1679, 1752, 1771, 1807, 1824, 1825, 1836, 1870, 1926, 1932, 1980, 1985, 2037, 2055, 2056, 2098, 2175, 2180, 2304, 2362, 2368, 2400, 2415, 2451, 2462, 2503, 2538, 2544, 2559, 2563, 2573, 2586, 2597, 2611, 2652, 2674, 2698, 2743, 2744, 2754, 2757, 2765, 2789, 2800, 2824, 2837, 2848, 2862, 2865, 2886, 2887, 2969, 2979, 3010, 3014, 3043, 3056, 3073, 3094, 3120, 3280, 3284, 3315, 3344, 3345, 3379, 3389, 3459, 3514, 3531, 3586, 3619, 3622, 3640, 3652, 3658, 3716, 3720, 3739, 3789, 3806, 3851, 3870, 3888, 3895, 3912, 3914, 3919, 3942, 4064, 4123, 4143, 4166, 4174, 4189, 4236, 4284, 4338, 4355, 4374, 4410, 4454, 4471, 4484, 4495, 4497, 4522, 4615, 4635, 4645, 4658, 4671, 4675, 4749, 4783, 4804, 4813, 4852, 4877, 4926, 4927, 4942, 4952, 4953, 4964, 4998, 5053, 5077, 5112, 5189, 5197, 5272, 5322, 5356, 5357, 5372, 5375, 5385, 5422, 5442, 5447, 5456, 5503, 5562, 5584, 5612, 5619, 5651, 5657, 5670, 5700, 5741, 5742, 5764, 5780, 5802, 5817, 5829, 5836, 5888, 5890, 5901, 5912, 5927, 5974, 5986, 5999, 6009, 6021, 6023, 6064, 6067, 6070, 6086, 6095, 6107, 6181, 6217, 6225, 6228, 6273, 6295, 6316, 6371, 6376, 6386, 6402, 6415, 6427, 6429, 6452, 6527, 6557, 6571, 6572, 6573, 6656, 6671, 6678, 6688, 6689, 6720, 6789, 6809, 6816, 6821, 6882, 6883, 6935, 6938, 6939, 6962, 6967, 6969, 6998, 7005, 7083, 7118, 7122, 7125, 7176, 7184, 7191, 7211, 7223, 7236, 7245, 7251, 7302, 7307, 7328, 7335, 7377, 7390, 7414, 7493, 7560, 7561, 7564, 7615, 7707, 7708, 7714, 7742, 7743, 7749, 7786, 7811, 7835, 7882, 7884, 7896, 7924, 7939, 7940, 7943, 7984, 7986, 7993, 8016, 8126, 8138, 8153, 8196, 8197, 8232, 8235, 8264, 8270, 8275, 8327, 8336, 8378, 8424, 8427, 8456, 8458, 8459, 8463, 8500, 8502, 8534, 8535, 8571, 8588, 8596, 8632, 8670, 8711, 8718, 8754, 8772, 8795, 8800, 8832, 8911, 8915, 8921, 9008, 25752, 25753, 25782, 25805, 25870, 26002, 26059, 26073, 26095, 26122, 26147, 26158, 26172, 26176, 26265, 26283, 26317, 26366, 26391, 26401, 26429, 26453, 26524, 26539, 26578, 26603, 26630, 26717, 26736, 26741, 26761, 26796, 26828, 26861, 26875, 26887, 26900, 26901, 26913, 26985, 27006, 27036, 27074, 27134, 27140, 27176, 27246, 27328, 27370, 27416, 27434, 27523, 27549, 27689, 27704, 27746, 27869, 30745, 30820, 31030, 31162, 31193, 31522, 31610, 31664, 31698, 31737, 31903, 32116, 32234, 32294, 32314, 32440, 32632, 32728, 32862, 33124, 33201, 33237, 33310, 33558, 33644, 33677, 33801, 34018, 34450, 34540, 34811, 35347, 36289, 36477, 36533, 36850, 37477, 37495, 40491, 41014, 41769, 42015, 42176, 42559, 42602, 42740, 42761, 43684, 43744, 44189, 44633, 44657, 44931, 45062, 46574, 46865, 47384, 47566, 47952, 47978, 48045, 49647, 49735, 49917, 50158, 50356, 50610, 50613, 50851, 51167, 51562, 51573, 52668, 53022, 53326, 54116, 54274, 54686, 54732, 54908, 54934, 55207, 55259, 55687, 56274, 56333, 56837, 56908, 56915, 57326, 57502, 57637, 57772, 58309, 58492, 58975, 59018, 59220, 59731, 59915, 60030, 60046, 60333, 60363, 60389, 60516, 60647, 60737, 60832, 61011, 61071, 61073, 61246, 61255, 61262, 61697, 62008, 62299, 62586, 62662, 62799, 63276, 63768, 65350, 65596, 65738, 66090, 66171, 66320, 67618, 68347, 68522, 68552, 68600, 68872, 68945, 69516, 69720, 69953, 70015, 70208, 70637, 70663, 70703, 70708, 71160, 71302, 71438, 71453, 71484, 71867, 72142, 72178, 72330, 72424, 72591, 72694, 73431, 73501, 73676, 73681, 73741, 73876, 74580, 74624, 74647, 74688, 74696, 75416, 75446, 75816, 76091, 76738, 77201, 77795, 78103, 78116, 78620, 79684, 79897, 80083, 80553, 80858, 81087, 81191, 81791, 82152, 82366, 82641, 82767, 83369, 83374, 83601, 84246, 84523, 84696, 85025, 85261, 85295, 86068, 86237, 86355, 86721, 86815, 86817, 86864, 87028, 88069, 88108, 88515, 88697, 89039, 89678, 89945, 90245, 90384, 90809, 90943, 91873, 91935, 91947, 92494, 92637, 92665, 92730, 93022, 93193, 93512, 93740, 93790, 94405, 94661, 94867, 94919, 95004, 95145, 95165, 95193, 95690, 95717, 95744, 96007, 96114, 96150, 96283, 96373, 96567, 96726, 96832, 97024, 97194, 97328, 97742, 97950, 98061, 98175, 98230, 98607, 98799, 98836, 99191, 99750, 100159, 100306, 100326, 100397, 100556, 100714, 100906, 101529, 102088, 102338, 102742, 102984, 103107, 103210, 103366, 103483, 103685, 103755, 104017, 104644, 104760, 105325, 105355, 105540, 105835, 106889, 107013, 107159, 107462, 107630, 107723, 108188, 108715, 109282, 109317, 109383, 110286, 110541, 110746, 110781, 111384, 111680, 111795, 112326, 112334, 112450, 112940, 113275, 113345, 113705, 113829, 113862, 114126, 114494, 114554, 114601, 115111, 115969, 116044, 116419, 116505, 116718, 116817, 117867, 118166, 118198, 118326, 118512, 118814, 118834, 118894, 118896, 119153, 119964, 120130, 120625, 120919, 121097, 121169, 121338, 121715, 123200, 125221, 125914, 126088, 126430, 127114, 127130, 127390, 128089, 128097, 128900, 128908, 129229, 129313, 129333, 130498, 130578, 130686, 131098, 131130, 131739, 131749, 131934, 132153, 132333, 132888, 133377, 133716, 133780, 133867, 134004, 134109, 134246, 134334, 134528, 134796, 135803, 135937, 136024, 136341, 136353, 136359, 136443, 136469, 136511, 136654, 136664, 136816, 136838, 137863, 138186, 138546, 138798, 138835, 139415, 140038, 140265, 140561, 141408, 141513, 141816, 141890, 141928, 142366, 142424, 142558, 142831, 143001, 143410, 143472, 143525, 143559, 144522, 144714, 144716, 144734, 144976, 145724, 145745, 146024, 146210, 147002, 147142, 147196, 147250, 147330, 147410, 148166, 148172, 148482, 148978, 149330, 149350, 149566, 149612, 149830, 149902, 150604, 151557, 151559, 151769, 152085, 152284, 152591, 152658, 155892, 157108, 157122, 157369, 157775, 158022, 158027, 158035, 158388, 159510, 159690, 159811, 160341, 160644, 160730, 161008, 161290, 161594, 161830, 161966, 162414, 163072, 163112, 163639, 163653, 163809, 163981, 164707, 165671, 165947, 166183, 166203, 166558, 167296, 167634, 167772, 168090, 168350, 168358, 168456, 168608, 168632, 168846, 169180, 169958, 170357, 170399, 170401, 170597, 170817, 170837, 170897, 170937, 171695, 171751, 171759, 172229, 172321, 172637, 173197, 173535, 173619, 173941, 173963, 174479, 174681, 175199, 175293, 175475, 175577, 175707, 176329, 176935, 177939, 178323, 179073, 179133, 180777, 181139, 181659, 182293, 182727, 183011, 183317, 183611, 184349, 184721, 184987, 185135, 187717, 188797, 190207, 190221, 191005, 193571, 193579, 193587]",
     "output_type": "error",
     "traceback": [
      "\u001b[0;31m---------------------------------------------------------------------------\u001b[0m",
      "\u001b[0;31mValueError\u001b[0m                                Traceback (most recent call last)",
      "\u001b[0;32m/tmp/ipykernel_496/1711721200.py\u001b[0m in \u001b[0;36m<module>\u001b[0;34m\u001b[0m\n\u001b[1;32m      1\u001b[0m \u001b[0;31m# user = training.iloc[0]\u001b[0m\u001b[0;34m\u001b[0m\u001b[0;34m\u001b[0m\u001b[0;34m\u001b[0m\u001b[0m\n\u001b[1;32m      2\u001b[0m \u001b[0;34m\u001b[0m\u001b[0m\n\u001b[0;32m----> 3\u001b[0;31m \u001b[0mmodel\u001b[0m\u001b[0;34m.\u001b[0m\u001b[0mpredict\u001b[0m\u001b[0;34m(\u001b[0m\u001b[0mtraining\u001b[0m\u001b[0;34m,\u001b[0m \u001b[0mtesting\u001b[0m\u001b[0;34m.\u001b[0m\u001b[0muser_id\u001b[0m\u001b[0;34m.\u001b[0m\u001b[0mtolist\u001b[0m\u001b[0;34m(\u001b[0m\u001b[0;34m)\u001b[0m\u001b[0;34m,\u001b[0m \u001b[0mtesting\u001b[0m\u001b[0;34m.\u001b[0m\u001b[0mitem_id\u001b[0m\u001b[0;34m.\u001b[0m\u001b[0mtolist\u001b[0m\u001b[0;34m(\u001b[0m\u001b[0;34m)\u001b[0m\u001b[0;34m)\u001b[0m\u001b[0;34m\u001b[0m\u001b[0;34m\u001b[0m\u001b[0m\n\u001b[0m",
      "\u001b[0;32m/tmp/ipykernel_496/1918768554.py\u001b[0m in \u001b[0;36mpredict\u001b[0;34m(self, train, users, items)\u001b[0m\n\u001b[1;32m     26\u001b[0m \u001b[0;34m\u001b[0m\u001b[0m\n\u001b[1;32m     27\u001b[0m         \u001b[0;32mdef\u001b[0m \u001b[0mpredict\u001b[0m\u001b[0;34m(\u001b[0m\u001b[0mself\u001b[0m\u001b[0;34m,\u001b[0m \u001b[0mtrain\u001b[0m\u001b[0;34m,\u001b[0m \u001b[0musers\u001b[0m\u001b[0;34m,\u001b[0m \u001b[0mitems\u001b[0m\u001b[0;34m)\u001b[0m\u001b[0;34m:\u001b[0m\u001b[0;34m\u001b[0m\u001b[0;34m\u001b[0m\u001b[0m\n\u001b[0;32m---> 28\u001b[0;31m                 \u001b[0mitems\u001b[0m \u001b[0;34m=\u001b[0m \u001b[0mself\u001b[0m\u001b[0;34m.\u001b[0m\u001b[0mitem_encoder\u001b[0m\u001b[0;34m.\u001b[0m\u001b[0mtransform\u001b[0m\u001b[0;34m(\u001b[0m\u001b[0mitems\u001b[0m\u001b[0;34m)\u001b[0m\u001b[0;34m\u001b[0m\u001b[0;34m\u001b[0m\u001b[0m\n\u001b[0m\u001b[1;32m     29\u001b[0m                 \u001b[0mdd\u001b[0m \u001b[0;34m=\u001b[0m \u001b[0mtrain\u001b[0m\u001b[0;34m.\u001b[0m\u001b[0mloc\u001b[0m\u001b[0;34m[\u001b[0m\u001b[0mtrain\u001b[0m\u001b[0;34m.\u001b[0m\u001b[0muser_id\u001b[0m\u001b[0;34m.\u001b[0m\u001b[0misin\u001b[0m\u001b[0;34m(\u001b[0m\u001b[0musers\u001b[0m\u001b[0;34m)\u001b[0m\u001b[0;34m]\u001b[0m\u001b[0;34m\u001b[0m\u001b[0;34m\u001b[0m\u001b[0m\n\u001b[1;32m     30\u001b[0m                 \u001b[0mdd\u001b[0m\u001b[0;34m[\u001b[0m\u001b[0;34m'ci'\u001b[0m\u001b[0;34m]\u001b[0m \u001b[0;34m=\u001b[0m \u001b[0mself\u001b[0m\u001b[0;34m.\u001b[0m\u001b[0mitem_encoder\u001b[0m\u001b[0;34m.\u001b[0m\u001b[0mtransform\u001b[0m\u001b[0;34m(\u001b[0m\u001b[0mdd\u001b[0m\u001b[0;34m.\u001b[0m\u001b[0mitem_id\u001b[0m\u001b[0;34m)\u001b[0m\u001b[0;34m\u001b[0m\u001b[0;34m\u001b[0m\u001b[0m\n",
      "\u001b[0;32m~/.local/lib/python3.7/site-packages/sklearn/preprocessing/_label.py\u001b[0m in \u001b[0;36mtransform\u001b[0;34m(self, y)\u001b[0m\n\u001b[1;32m    136\u001b[0m             \u001b[0;32mreturn\u001b[0m \u001b[0mnp\u001b[0m\u001b[0;34m.\u001b[0m\u001b[0marray\u001b[0m\u001b[0;34m(\u001b[0m\u001b[0;34m[\u001b[0m\u001b[0;34m]\u001b[0m\u001b[0;34m)\u001b[0m\u001b[0;34m\u001b[0m\u001b[0;34m\u001b[0m\u001b[0m\n\u001b[1;32m    137\u001b[0m \u001b[0;34m\u001b[0m\u001b[0m\n\u001b[0;32m--> 138\u001b[0;31m         \u001b[0;32mreturn\u001b[0m \u001b[0m_encode\u001b[0m\u001b[0;34m(\u001b[0m\u001b[0my\u001b[0m\u001b[0;34m,\u001b[0m \u001b[0muniques\u001b[0m\u001b[0;34m=\u001b[0m\u001b[0mself\u001b[0m\u001b[0;34m.\u001b[0m\u001b[0mclasses_\u001b[0m\u001b[0;34m)\u001b[0m\u001b[0;34m\u001b[0m\u001b[0;34m\u001b[0m\u001b[0m\n\u001b[0m\u001b[1;32m    139\u001b[0m \u001b[0;34m\u001b[0m\u001b[0m\n\u001b[1;32m    140\u001b[0m     \u001b[0;32mdef\u001b[0m \u001b[0minverse_transform\u001b[0m\u001b[0;34m(\u001b[0m\u001b[0mself\u001b[0m\u001b[0;34m,\u001b[0m \u001b[0my\u001b[0m\u001b[0;34m)\u001b[0m\u001b[0;34m:\u001b[0m\u001b[0;34m\u001b[0m\u001b[0;34m\u001b[0m\u001b[0m\n",
      "\u001b[0;32m~/.local/lib/python3.7/site-packages/sklearn/utils/_encode.py\u001b[0m in \u001b[0;36m_encode\u001b[0;34m(values, uniques, check_unknown)\u001b[0m\n\u001b[1;32m    187\u001b[0m             \u001b[0mdiff\u001b[0m \u001b[0;34m=\u001b[0m \u001b[0m_check_unknown\u001b[0m\u001b[0;34m(\u001b[0m\u001b[0mvalues\u001b[0m\u001b[0;34m,\u001b[0m \u001b[0muniques\u001b[0m\u001b[0;34m)\u001b[0m\u001b[0;34m\u001b[0m\u001b[0;34m\u001b[0m\u001b[0m\n\u001b[1;32m    188\u001b[0m             \u001b[0;32mif\u001b[0m \u001b[0mdiff\u001b[0m\u001b[0;34m:\u001b[0m\u001b[0;34m\u001b[0m\u001b[0;34m\u001b[0m\u001b[0m\n\u001b[0;32m--> 189\u001b[0;31m                 \u001b[0;32mraise\u001b[0m \u001b[0mValueError\u001b[0m\u001b[0;34m(\u001b[0m\u001b[0;34mf\"y contains previously unseen labels: {str(diff)}\"\u001b[0m\u001b[0;34m)\u001b[0m\u001b[0;34m\u001b[0m\u001b[0;34m\u001b[0m\u001b[0m\n\u001b[0m\u001b[1;32m    190\u001b[0m         \u001b[0;32mreturn\u001b[0m \u001b[0mnp\u001b[0m\u001b[0;34m.\u001b[0m\u001b[0msearchsorted\u001b[0m\u001b[0;34m(\u001b[0m\u001b[0muniques\u001b[0m\u001b[0;34m,\u001b[0m \u001b[0mvalues\u001b[0m\u001b[0;34m)\u001b[0m\u001b[0;34m\u001b[0m\u001b[0;34m\u001b[0m\u001b[0m\n\u001b[1;32m    191\u001b[0m \u001b[0;34m\u001b[0m\u001b[0m\n",
      "\u001b[0;31mValueError\u001b[0m: y contains previously unseen labels: [108, 137, 179, 183, 201, 220, 285, 295, 298, 310, 336, 386, 495, 547, 563, 573, 600, 632, 638, 698, 803, 876, 1040, 1054, 1116, 1137, 1144, 1156, 1163, 1180, 1337, 1423, 1427, 1440, 1458, 1473, 1496, 1514, 1565, 1574, 1661, 1675, 1679, 1752, 1771, 1807, 1824, 1825, 1836, 1870, 1926, 1932, 1980, 1985, 2037, 2055, 2056, 2098, 2175, 2180, 2304, 2362, 2368, 2400, 2415, 2451, 2462, 2503, 2538, 2544, 2559, 2563, 2573, 2586, 2597, 2611, 2652, 2674, 2698, 2743, 2744, 2754, 2757, 2765, 2789, 2800, 2824, 2837, 2848, 2862, 2865, 2886, 2887, 2969, 2979, 3010, 3014, 3043, 3056, 3073, 3094, 3120, 3280, 3284, 3315, 3344, 3345, 3379, 3389, 3459, 3514, 3531, 3586, 3619, 3622, 3640, 3652, 3658, 3716, 3720, 3739, 3789, 3806, 3851, 3870, 3888, 3895, 3912, 3914, 3919, 3942, 4064, 4123, 4143, 4166, 4174, 4189, 4236, 4284, 4338, 4355, 4374, 4410, 4454, 4471, 4484, 4495, 4497, 4522, 4615, 4635, 4645, 4658, 4671, 4675, 4749, 4783, 4804, 4813, 4852, 4877, 4926, 4927, 4942, 4952, 4953, 4964, 4998, 5053, 5077, 5112, 5189, 5197, 5272, 5322, 5356, 5357, 5372, 5375, 5385, 5422, 5442, 5447, 5456, 5503, 5562, 5584, 5612, 5619, 5651, 5657, 5670, 5700, 5741, 5742, 5764, 5780, 5802, 5817, 5829, 5836, 5888, 5890, 5901, 5912, 5927, 5974, 5986, 5999, 6009, 6021, 6023, 6064, 6067, 6070, 6086, 6095, 6107, 6181, 6217, 6225, 6228, 6273, 6295, 6316, 6371, 6376, 6386, 6402, 6415, 6427, 6429, 6452, 6527, 6557, 6571, 6572, 6573, 6656, 6671, 6678, 6688, 6689, 6720, 6789, 6809, 6816, 6821, 6882, 6883, 6935, 6938, 6939, 6962, 6967, 6969, 6998, 7005, 7083, 7118, 7122, 7125, 7176, 7184, 7191, 7211, 7223, 7236, 7245, 7251, 7302, 7307, 7328, 7335, 7377, 7390, 7414, 7493, 7560, 7561, 7564, 7615, 7707, 7708, 7714, 7742, 7743, 7749, 7786, 7811, 7835, 7882, 7884, 7896, 7924, 7939, 7940, 7943, 7984, 7986, 7993, 8016, 8126, 8138, 8153, 8196, 8197, 8232, 8235, 8264, 8270, 8275, 8327, 8336, 8378, 8424, 8427, 8456, 8458, 8459, 8463, 8500, 8502, 8534, 8535, 8571, 8588, 8596, 8632, 8670, 8711, 8718, 8754, 8772, 8795, 8800, 8832, 8911, 8915, 8921, 9008, 25752, 25753, 25782, 25805, 25870, 26002, 26059, 26073, 26095, 26122, 26147, 26158, 26172, 26176, 26265, 26283, 26317, 26366, 26391, 26401, 26429, 26453, 26524, 26539, 26578, 26603, 26630, 26717, 26736, 26741, 26761, 26796, 26828, 26861, 26875, 26887, 26900, 26901, 26913, 26985, 27006, 27036, 27074, 27134, 27140, 27176, 27246, 27328, 27370, 27416, 27434, 27523, 27549, 27689, 27704, 27746, 27869, 30745, 30820, 31030, 31162, 31193, 31522, 31610, 31664, 31698, 31737, 31903, 32116, 32234, 32294, 32314, 32440, 32632, 32728, 32862, 33124, 33201, 33237, 33310, 33558, 33644, 33677, 33801, 34018, 34450, 34540, 34811, 35347, 36289, 36477, 36533, 36850, 37477, 37495, 40491, 41014, 41769, 42015, 42176, 42559, 42602, 42740, 42761, 43684, 43744, 44189, 44633, 44657, 44931, 45062, 46574, 46865, 47384, 47566, 47952, 47978, 48045, 49647, 49735, 49917, 50158, 50356, 50610, 50613, 50851, 51167, 51562, 51573, 52668, 53022, 53326, 54116, 54274, 54686, 54732, 54908, 54934, 55207, 55259, 55687, 56274, 56333, 56837, 56908, 56915, 57326, 57502, 57637, 57772, 58309, 58492, 58975, 59018, 59220, 59731, 59915, 60030, 60046, 60333, 60363, 60389, 60516, 60647, 60737, 60832, 61011, 61071, 61073, 61246, 61255, 61262, 61697, 62008, 62299, 62586, 62662, 62799, 63276, 63768, 65350, 65596, 65738, 66090, 66171, 66320, 67618, 68347, 68522, 68552, 68600, 68872, 68945, 69516, 69720, 69953, 70015, 70208, 70637, 70663, 70703, 70708, 71160, 71302, 71438, 71453, 71484, 71867, 72142, 72178, 72330, 72424, 72591, 72694, 73431, 73501, 73676, 73681, 73741, 73876, 74580, 74624, 74647, 74688, 74696, 75416, 75446, 75816, 76091, 76738, 77201, 77795, 78103, 78116, 78620, 79684, 79897, 80083, 80553, 80858, 81087, 81191, 81791, 82152, 82366, 82641, 82767, 83369, 83374, 83601, 84246, 84523, 84696, 85025, 85261, 85295, 86068, 86237, 86355, 86721, 86815, 86817, 86864, 87028, 88069, 88108, 88515, 88697, 89039, 89678, 89945, 90245, 90384, 90809, 90943, 91873, 91935, 91947, 92494, 92637, 92665, 92730, 93022, 93193, 93512, 93740, 93790, 94405, 94661, 94867, 94919, 95004, 95145, 95165, 95193, 95690, 95717, 95744, 96007, 96114, 96150, 96283, 96373, 96567, 96726, 96832, 97024, 97194, 97328, 97742, 97950, 98061, 98175, 98230, 98607, 98799, 98836, 99191, 99750, 100159, 100306, 100326, 100397, 100556, 100714, 100906, 101529, 102088, 102338, 102742, 102984, 103107, 103210, 103366, 103483, 103685, 103755, 104017, 104644, 104760, 105325, 105355, 105540, 105835, 106889, 107013, 107159, 107462, 107630, 107723, 108188, 108715, 109282, 109317, 109383, 110286, 110541, 110746, 110781, 111384, 111680, 111795, 112326, 112334, 112450, 112940, 113275, 113345, 113705, 113829, 113862, 114126, 114494, 114554, 114601, 115111, 115969, 116044, 116419, 116505, 116718, 116817, 117867, 118166, 118198, 118326, 118512, 118814, 118834, 118894, 118896, 119153, 119964, 120130, 120625, 120919, 121097, 121169, 121338, 121715, 123200, 125221, 125914, 126088, 126430, 127114, 127130, 127390, 128089, 128097, 128900, 128908, 129229, 129313, 129333, 130498, 130578, 130686, 131098, 131130, 131739, 131749, 131934, 132153, 132333, 132888, 133377, 133716, 133780, 133867, 134004, 134109, 134246, 134334, 134528, 134796, 135803, 135937, 136024, 136341, 136353, 136359, 136443, 136469, 136511, 136654, 136664, 136816, 136838, 137863, 138186, 138546, 138798, 138835, 139415, 140038, 140265, 140561, 141408, 141513, 141816, 141890, 141928, 142366, 142424, 142558, 142831, 143001, 143410, 143472, 143525, 143559, 144522, 144714, 144716, 144734, 144976, 145724, 145745, 146024, 146210, 147002, 147142, 147196, 147250, 147330, 147410, 148166, 148172, 148482, 148978, 149330, 149350, 149566, 149612, 149830, 149902, 150604, 151557, 151559, 151769, 152085, 152284, 152591, 152658, 155892, 157108, 157122, 157369, 157775, 158022, 158027, 158035, 158388, 159510, 159690, 159811, 160341, 160644, 160730, 161008, 161290, 161594, 161830, 161966, 162414, 163072, 163112, 163639, 163653, 163809, 163981, 164707, 165671, 165947, 166183, 166203, 166558, 167296, 167634, 167772, 168090, 168350, 168358, 168456, 168608, 168632, 168846, 169180, 169958, 170357, 170399, 170401, 170597, 170817, 170837, 170897, 170937, 171695, 171751, 171759, 172229, 172321, 172637, 173197, 173535, 173619, 173941, 173963, 174479, 174681, 175199, 175293, 175475, 175577, 175707, 176329, 176935, 177939, 178323, 179073, 179133, 180777, 181139, 181659, 182293, 182727, 183011, 183317, 183611, 184349, 184721, 184987, 185135, 187717, 188797, 190207, 190221, 191005, 193571, 193579, 193587]"
     ]
    }
   ],
   "source": [
    "# user = training.iloc[0]\n",
    "\n",
    "model.predict(training, testing.user_id.tolist(), testing.item_id.tolist())"
   ]
  },
  {
   "cell_type": "code",
   "execution_count": null,
   "metadata": {},
   "outputs": [],
   "source": []
  }
 ],
 "metadata": {
  "kernelspec": {
   "display_name": "Python 3",
   "language": "python",
   "name": "python3"
  },
  "language_info": {
   "codemirror_mode": {
    "name": "ipython",
    "version": 3
   },
   "file_extension": ".py",
   "mimetype": "text/x-python",
   "name": "python",
   "nbconvert_exporter": "python",
   "pygments_lexer": "ipython3",
   "version": "3.7.9"
  },
  "orig_nbformat": 4,
  "vscode": {
   "interpreter": {
    "hash": "aee8b7b246df8f9039afb4144a1f6fd8d2ca17a180786b69acc140d282b71a49"
   }
  }
 },
 "nbformat": 4,
 "nbformat_minor": 2
}
