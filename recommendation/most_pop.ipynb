{
 "cells": [
  {
   "cell_type": "markdown",
   "metadata": {},
   "source": [
    "Imports"
   ]
  },
  {
   "cell_type": "code",
   "execution_count": 2,
   "metadata": {},
   "outputs": [],
   "source": [
    "%run helpers.ipynb"
   ]
  },
  {
   "cell_type": "code",
   "execution_count": 3,
   "metadata": {},
   "outputs": [],
   "source": [
    "(ratings, movies, _) = load_ML_100k()"
   ]
  },
  {
   "cell_type": "code",
   "execution_count": 3,
   "metadata": {},
   "outputs": [],
   "source": [
    "class MostPop():\n",
    "    def __init__(self, N=200):\n",
    "        self.N = N\n",
    "        \n",
    "    def fit(self, dataset_movies, dataset_ratings):\n",
    "        pop_movies = dataset_ratings['movieId'].value_counts()\n",
    "        \n",
    "        self.top_N = filter_df_by_list(dataset_movies, 'movieId', pop_movies.index.tolist()[:self.N])\n",
    "        \n",
    "        return self.top_N\n",
    "    \n",
    "    def predict(self, user_rating, top_k = 10):        \n",
    "        candidates = self.top_N.movieId.tolist()\n",
    "        candidates = [movie for movie in candidates if movie not in user_rating.movieId.tolist()][:top_k]\n",
    "        if len(candidates) < top_k:\n",
    "                raise Exception(f'N = {self.N} is too small to recommend {top_k} items for the user with the id {user_rating.iloc[0].userId}')\n",
    "        return filter_df_by_list(self.top_N, 'movieId', candidates)\n"
   ]
  },
  {
   "cell_type": "code",
   "execution_count": 4,
   "metadata": {},
   "outputs": [
    {
     "data": {
      "text/html": [
       "<div>\n",
       "<style scoped>\n",
       "    .dataframe tbody tr th:only-of-type {\n",
       "        vertical-align: middle;\n",
       "    }\n",
       "\n",
       "    .dataframe tbody tr th {\n",
       "        vertical-align: top;\n",
       "    }\n",
       "\n",
       "    .dataframe thead th {\n",
       "        text-align: right;\n",
       "    }\n",
       "</style>\n",
       "<table border=\"1\" class=\"dataframe\">\n",
       "  <thead>\n",
       "    <tr style=\"text-align: right;\">\n",
       "      <th></th>\n",
       "      <th>movieId</th>\n",
       "      <th>title</th>\n",
       "      <th>genres</th>\n",
       "    </tr>\n",
       "  </thead>\n",
       "  <tbody>\n",
       "    <tr>\n",
       "      <th>0</th>\n",
       "      <td>318</td>\n",
       "      <td>Shawshank Redemption, The (1994)</td>\n",
       "      <td>Crime|Drama</td>\n",
       "    </tr>\n",
       "    <tr>\n",
       "      <th>1</th>\n",
       "      <td>589</td>\n",
       "      <td>Terminator 2: Judgment Day (1991)</td>\n",
       "      <td>Action|Sci-Fi</td>\n",
       "    </tr>\n",
       "    <tr>\n",
       "      <th>2</th>\n",
       "      <td>150</td>\n",
       "      <td>Apollo 13 (1995)</td>\n",
       "      <td>Adventure|Drama|IMAX</td>\n",
       "    </tr>\n",
       "    <tr>\n",
       "      <th>3</th>\n",
       "      <td>4993</td>\n",
       "      <td>Lord of the Rings: The Fellowship of the Ring,...</td>\n",
       "      <td>Adventure|Fantasy</td>\n",
       "    </tr>\n",
       "    <tr>\n",
       "      <th>4</th>\n",
       "      <td>858</td>\n",
       "      <td>Godfather, The (1972)</td>\n",
       "      <td>Crime|Drama</td>\n",
       "    </tr>\n",
       "    <tr>\n",
       "      <th>5</th>\n",
       "      <td>5952</td>\n",
       "      <td>Lord of the Rings: The Two Towers, The (2002)</td>\n",
       "      <td>Adventure|Fantasy</td>\n",
       "    </tr>\n",
       "    <tr>\n",
       "      <th>6</th>\n",
       "      <td>7153</td>\n",
       "      <td>Lord of the Rings: The Return of the King, The...</td>\n",
       "      <td>Action|Adventure|Drama|Fantasy</td>\n",
       "    </tr>\n",
       "    <tr>\n",
       "      <th>7</th>\n",
       "      <td>588</td>\n",
       "      <td>Aladdin (1992)</td>\n",
       "      <td>Adventure|Animation|Children|Comedy|Musical</td>\n",
       "    </tr>\n",
       "    <tr>\n",
       "      <th>8</th>\n",
       "      <td>2762</td>\n",
       "      <td>Sixth Sense, The (1999)</td>\n",
       "      <td>Drama|Horror|Mystery</td>\n",
       "    </tr>\n",
       "    <tr>\n",
       "      <th>9</th>\n",
       "      <td>380</td>\n",
       "      <td>True Lies (1994)</td>\n",
       "      <td>Action|Adventure|Comedy|Romance|Thriller</td>\n",
       "    </tr>\n",
       "  </tbody>\n",
       "</table>\n",
       "</div>"
      ],
      "text/plain": [
       "   movieId                                              title  \\\n",
       "0      318                   Shawshank Redemption, The (1994)   \n",
       "1      589                  Terminator 2: Judgment Day (1991)   \n",
       "2      150                                   Apollo 13 (1995)   \n",
       "3     4993  Lord of the Rings: The Fellowship of the Ring,...   \n",
       "4      858                              Godfather, The (1972)   \n",
       "5     5952      Lord of the Rings: The Two Towers, The (2002)   \n",
       "6     7153  Lord of the Rings: The Return of the King, The...   \n",
       "7      588                                     Aladdin (1992)   \n",
       "8     2762                            Sixth Sense, The (1999)   \n",
       "9      380                                   True Lies (1994)   \n",
       "\n",
       "                                        genres  \n",
       "0                                  Crime|Drama  \n",
       "1                                Action|Sci-Fi  \n",
       "2                         Adventure|Drama|IMAX  \n",
       "3                            Adventure|Fantasy  \n",
       "4                                  Crime|Drama  \n",
       "5                            Adventure|Fantasy  \n",
       "6               Action|Adventure|Drama|Fantasy  \n",
       "7  Adventure|Animation|Children|Comedy|Musical  \n",
       "8                         Drama|Horror|Mystery  \n",
       "9     Action|Adventure|Comedy|Romance|Thriller  "
      ]
     },
     "execution_count": 4,
     "metadata": {},
     "output_type": "execute_result"
    }
   ],
   "source": [
    "model = MostPop()\n",
    "\n",
    "user_ratings = load_ratings_ML_100k()\n",
    "\n",
    "model.fit(movies, ratings)\n",
    "model.predict(user_ratings[user_ratings.userId == 1])\n",
    "\n",
    "\n"
   ]
  },
  {
   "cell_type": "code",
   "execution_count": null,
   "metadata": {},
   "outputs": [],
   "source": []
  }
 ],
 "metadata": {
  "kernelspec": {
   "display_name": "Python 3",
   "language": "python",
   "name": "python3"
  },
  "language_info": {
   "codemirror_mode": {
    "name": "ipython",
    "version": 3
   },
   "file_extension": ".py",
   "mimetype": "text/x-python",
   "name": "python",
   "nbconvert_exporter": "python",
   "pygments_lexer": "ipython3",
   "version": "3.7.9"
  },
  "vscode": {
   "interpreter": {
    "hash": "aee8b7b246df8f9039afb4144a1f6fd8d2ca17a180786b69acc140d282b71a49"
   }
  }
 },
 "nbformat": 4,
 "nbformat_minor": 2
}
