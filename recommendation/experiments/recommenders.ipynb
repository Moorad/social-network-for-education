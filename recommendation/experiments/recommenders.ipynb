{
  "cells": [
    {
      "attachments": {},
      "cell_type": "markdown",
      "metadata": {
        "id": "Ym8_yK09k0PW"
      },
      "source": [
        "## Global imports and dataset"
      ]
    },
    {
      "cell_type": "code",
      "execution_count": 81,
      "metadata": {
        "id": "EVMyhkXYktuY"
      },
      "outputs": [],
      "source": [
        "import cornac\n",
        "import surprise\n",
        "from recommenders.datasets import movielens\n",
        "from recommenders.utils.constants import SEED\n",
        "from recommenders.utils.timer import Timer\n",
        "from recommenders.evaluation.python_evaluation import rmse, ndcg_at_k\n",
        "from sklearn.model_selection import train_test_split\n",
        "import recommenders.models.cornac.cornac_utils as cornac_utils\n",
        "import recommenders.models.surprise.surprise_utils as surprise_utils"
      ]
    },
    {
      "cell_type": "code",
      "execution_count": 71,
      "metadata": {
        "id": "IvyO4jummXK8"
      },
      "outputs": [],
      "source": [
        "# Configuration\n",
        "\n",
        "# Convert explicit ratings (1-5) to implicit binary rating\n",
        "implicit_ratings = False\n",
        "training_split = 0.75\n",
        "\n",
        "# Number of recommendations for each user (evaluation) \n",
        "k = 10"
      ]
    },
    {
      "cell_type": "code",
      "execution_count": 72,
      "metadata": {
        "colab": {
          "base_uri": "https://localhost:8080/",
          "height": 223
        },
        "id": "wx7lvTAVlbWL",
        "outputId": "abee9e2c-a06c-499b-e5c5-1acb00e0e3ed"
      },
      "outputs": [
        {
          "name": "stderr",
          "output_type": "stream",
          "text": [
            "100%|██████████| 4.81k/4.81k [00:02<00:00, 1.64kKB/s]\n"
          ]
        },
        {
          "data": {
            "text/html": [
              "<div>\n",
              "<style scoped>\n",
              "    .dataframe tbody tr th:only-of-type {\n",
              "        vertical-align: middle;\n",
              "    }\n",
              "\n",
              "    .dataframe tbody tr th {\n",
              "        vertical-align: top;\n",
              "    }\n",
              "\n",
              "    .dataframe thead th {\n",
              "        text-align: right;\n",
              "    }\n",
              "</style>\n",
              "<table border=\"1\" class=\"dataframe\">\n",
              "  <thead>\n",
              "    <tr style=\"text-align: right;\">\n",
              "      <th></th>\n",
              "      <th>userID</th>\n",
              "      <th>itemID</th>\n",
              "      <th>rating</th>\n",
              "    </tr>\n",
              "  </thead>\n",
              "  <tbody>\n",
              "    <tr>\n",
              "      <th>0</th>\n",
              "      <td>196</td>\n",
              "      <td>242</td>\n",
              "      <td>3.0</td>\n",
              "    </tr>\n",
              "    <tr>\n",
              "      <th>1</th>\n",
              "      <td>186</td>\n",
              "      <td>302</td>\n",
              "      <td>3.0</td>\n",
              "    </tr>\n",
              "    <tr>\n",
              "      <th>2</th>\n",
              "      <td>22</td>\n",
              "      <td>377</td>\n",
              "      <td>1.0</td>\n",
              "    </tr>\n",
              "    <tr>\n",
              "      <th>3</th>\n",
              "      <td>244</td>\n",
              "      <td>51</td>\n",
              "      <td>2.0</td>\n",
              "    </tr>\n",
              "    <tr>\n",
              "      <th>4</th>\n",
              "      <td>166</td>\n",
              "      <td>346</td>\n",
              "      <td>1.0</td>\n",
              "    </tr>\n",
              "  </tbody>\n",
              "</table>\n",
              "</div>"
            ],
            "text/plain": [
              "   userID  itemID  rating\n",
              "0     196     242     3.0\n",
              "1     186     302     3.0\n",
              "2      22     377     1.0\n",
              "3     244      51     2.0\n",
              "4     166     346     1.0"
            ]
          },
          "execution_count": 72,
          "metadata": {},
          "output_type": "execute_result"
        }
      ],
      "source": [
        "# Import movielens dataset\n",
        "data = movielens.load_pandas_df(size='100k', header=['userID', 'itemID', 'rating'])\n",
        "data.head()"
      ]
    },
    {
      "cell_type": "code",
      "execution_count": 73,
      "metadata": {
        "colab": {
          "base_uri": "https://localhost:8080/",
          "height": 206
        },
        "id": "mRLbpC4Rlj5k",
        "outputId": "62c73b4e-b5f0-45ae-e179-3157b5aa5f0c"
      },
      "outputs": [
        {
          "data": {
            "text/html": [
              "<div>\n",
              "<style scoped>\n",
              "    .dataframe tbody tr th:only-of-type {\n",
              "        vertical-align: middle;\n",
              "    }\n",
              "\n",
              "    .dataframe tbody tr th {\n",
              "        vertical-align: top;\n",
              "    }\n",
              "\n",
              "    .dataframe thead th {\n",
              "        text-align: right;\n",
              "    }\n",
              "</style>\n",
              "<table border=\"1\" class=\"dataframe\">\n",
              "  <thead>\n",
              "    <tr style=\"text-align: right;\">\n",
              "      <th></th>\n",
              "      <th>userID</th>\n",
              "      <th>itemID</th>\n",
              "      <th>rating</th>\n",
              "    </tr>\n",
              "  </thead>\n",
              "  <tbody>\n",
              "    <tr>\n",
              "      <th>0</th>\n",
              "      <td>196</td>\n",
              "      <td>242</td>\n",
              "      <td>3.0</td>\n",
              "    </tr>\n",
              "    <tr>\n",
              "      <th>1</th>\n",
              "      <td>186</td>\n",
              "      <td>302</td>\n",
              "      <td>3.0</td>\n",
              "    </tr>\n",
              "    <tr>\n",
              "      <th>2</th>\n",
              "      <td>22</td>\n",
              "      <td>377</td>\n",
              "      <td>1.0</td>\n",
              "    </tr>\n",
              "    <tr>\n",
              "      <th>3</th>\n",
              "      <td>244</td>\n",
              "      <td>51</td>\n",
              "      <td>2.0</td>\n",
              "    </tr>\n",
              "    <tr>\n",
              "      <th>4</th>\n",
              "      <td>166</td>\n",
              "      <td>346</td>\n",
              "      <td>1.0</td>\n",
              "    </tr>\n",
              "  </tbody>\n",
              "</table>\n",
              "</div>"
            ],
            "text/plain": [
              "   userID  itemID  rating\n",
              "0     196     242     3.0\n",
              "1     186     302     3.0\n",
              "2      22     377     1.0\n",
              "3     244      51     2.0\n",
              "4     166     346     1.0"
            ]
          },
          "execution_count": 73,
          "metadata": {},
          "output_type": "execute_result"
        }
      ],
      "source": [
        "# Convert explicit rating to implicit ratings\n",
        "if (implicit_ratings):\n",
        "  data.rating = data.rating.map(lambda x: 1 if x > 3 else 0) \n",
        "\n",
        "data.head()"
      ]
    },
    {
      "cell_type": "code",
      "execution_count": 74,
      "metadata": {
        "colab": {
          "base_uri": "https://localhost:8080/"
        },
        "id": "HSt21z8pluvj",
        "outputId": "45ad0d6a-2fe9-4686-88b6-91a0664291f2"
      },
      "outputs": [
        {
          "data": {
            "text/plain": [
              "(75000, 3)"
            ]
          },
          "execution_count": 74,
          "metadata": {},
          "output_type": "execute_result"
        }
      ],
      "source": [
        "# Split dataset to training and testing set. 75/25\n",
        "train, test = train_test_split(data, train_size=training_split)\n",
        "\n",
        "train.shape"
      ]
    },
    {
      "attachments": {},
      "cell_type": "markdown",
      "metadata": {
        "id": "Z_Tvcv9xk8tT"
      },
      "source": [
        "## Suprise Recommenders"
      ]
    },
    {
      "cell_type": "code",
      "execution_count": 75,
      "metadata": {
        "id": "aGKk-EdJmmux"
      },
      "outputs": [],
      "source": [
        "# Convert surprise reader to binary rating scale if implicit ratings\n",
        "reader = surprise.Reader(rating_scale = (1,5))\n",
        "\n",
        "if (implicit_ratings):\n",
        "  reader = surprise.Reader(rating_scale = (0,1))"
      ]
    },
    {
      "cell_type": "code",
      "execution_count": 76,
      "metadata": {
        "colab": {
          "base_uri": "https://localhost:8080/"
        },
        "id": "SUskB_yKm6WO",
        "outputId": "bb3a0432-1a7c-4882-a19e-456e6accf3d2"
      },
      "outputs": [
        {
          "data": {
            "text/plain": [
              "<surprise.trainset.Trainset at 0x7f243471fc70>"
            ]
          },
          "execution_count": 76,
          "metadata": {},
          "output_type": "execute_result"
        }
      ],
      "source": [
        "# Convert train dataset to surprise dataset\n",
        "trainset = surprise.Dataset.load_from_df(train , reader=reader).build_full_trainset()\n",
        "\n",
        "trainset"
      ]
    },
    {
      "attachments": {},
      "cell_type": "markdown",
      "metadata": {
        "id": "Ab73Un6olIBz"
      },
      "source": [
        "### SVD"
      ]
    },
    {
      "cell_type": "code",
      "execution_count": 77,
      "metadata": {
        "id": "F1iNonKHnPNG"
      },
      "outputs": [],
      "source": [
        "# Hyperparameters\n",
        "n_factors = 20\n",
        "n_epochs = 30"
      ]
    },
    {
      "cell_type": "code",
      "execution_count": 78,
      "metadata": {
        "colab": {
          "base_uri": "https://localhost:8080/"
        },
        "id": "18NNrVW4mF9P",
        "outputId": "339993df-d60b-4059-871a-e60d45b5ad9a"
      },
      "outputs": [
        {
          "name": "stdout",
          "output_type": "stream",
          "text": [
            "Processing epoch 0\n",
            "Processing epoch 1\n",
            "Processing epoch 2\n",
            "Processing epoch 3\n",
            "Processing epoch 4\n",
            "Processing epoch 5\n",
            "Processing epoch 6\n",
            "Processing epoch 7\n",
            "Processing epoch 8\n",
            "Processing epoch 9\n",
            "Processing epoch 10\n",
            "Processing epoch 11\n",
            "Processing epoch 12\n",
            "Processing epoch 13\n",
            "Processing epoch 14\n",
            "Processing epoch 15\n",
            "Processing epoch 16\n",
            "Processing epoch 17\n",
            "Processing epoch 18\n",
            "Processing epoch 19\n",
            "Processing epoch 20\n",
            "Processing epoch 21\n",
            "Processing epoch 22\n",
            "Processing epoch 23\n",
            "Processing epoch 24\n",
            "Processing epoch 25\n",
            "Processing epoch 26\n",
            "Processing epoch 27\n",
            "Processing epoch 28\n",
            "Processing epoch 29\n",
            "Training took 2.0705203999987134 seconds\n"
          ]
        }
      ],
      "source": [
        "# Train\n",
        "svd = surprise.SVD(random_state=0, n_factors=n_factors, n_epochs=n_epochs, verbose=True)\n",
        "\n",
        "with Timer() as train_time:\n",
        "    svd.fit(trainset)\n",
        "\n",
        "print(f\"Training took {train_time.interval} seconds\")"
      ]
    },
    {
      "cell_type": "code",
      "execution_count": 83,
      "metadata": {
        "colab": {
          "base_uri": "https://localhost:8080/",
          "height": 206
        },
        "id": "PEdQCaBAnsHI",
        "outputId": "a80cceff-5a26-4429-d25f-37c7cf2c1fbd"
      },
      "outputs": [
        {
          "data": {
            "text/html": [
              "<div>\n",
              "<style scoped>\n",
              "    .dataframe tbody tr th:only-of-type {\n",
              "        vertical-align: middle;\n",
              "    }\n",
              "\n",
              "    .dataframe tbody tr th {\n",
              "        vertical-align: top;\n",
              "    }\n",
              "\n",
              "    .dataframe thead th {\n",
              "        text-align: right;\n",
              "    }\n",
              "</style>\n",
              "<table border=\"1\" class=\"dataframe\">\n",
              "  <thead>\n",
              "    <tr style=\"text-align: right;\">\n",
              "      <th></th>\n",
              "      <th>userID</th>\n",
              "      <th>itemID</th>\n",
              "      <th>prediction</th>\n",
              "    </tr>\n",
              "  </thead>\n",
              "  <tbody>\n",
              "    <tr>\n",
              "      <th>0</th>\n",
              "      <td>130</td>\n",
              "      <td>294</td>\n",
              "      <td>3.875115</td>\n",
              "    </tr>\n",
              "    <tr>\n",
              "      <th>1</th>\n",
              "      <td>361</td>\n",
              "      <td>657</td>\n",
              "      <td>4.319471</td>\n",
              "    </tr>\n",
              "    <tr>\n",
              "      <th>2</th>\n",
              "      <td>916</td>\n",
              "      <td>720</td>\n",
              "      <td>2.262653</td>\n",
              "    </tr>\n",
              "    <tr>\n",
              "      <th>3</th>\n",
              "      <td>488</td>\n",
              "      <td>520</td>\n",
              "      <td>3.716537</td>\n",
              "    </tr>\n",
              "    <tr>\n",
              "      <th>4</th>\n",
              "      <td>221</td>\n",
              "      <td>550</td>\n",
              "      <td>3.181650</td>\n",
              "    </tr>\n",
              "  </tbody>\n",
              "</table>\n",
              "</div>"
            ],
            "text/plain": [
              "   userID  itemID  prediction\n",
              "0     130     294    3.875115\n",
              "1     361     657    4.319471\n",
              "2     916     720    2.262653\n",
              "3     488     520    3.716537\n",
              "4     221     550    3.181650"
            ]
          },
          "execution_count": 83,
          "metadata": {},
          "output_type": "execute_result"
        }
      ],
      "source": [
        "# View results\n",
        "predictions = surprise_utils.predict(svd, test, usercol='userID', itemcol='itemID')\n",
        "\n",
        "predictions.head()"
      ]
    },
    {
      "cell_type": "code",
      "execution_count": 84,
      "metadata": {
        "colab": {
          "base_uri": "https://localhost:8080/"
        },
        "id": "pTK5Wtvln5wx",
        "outputId": "2bf715fb-79e5-4bd6-88dd-ba0aa3daa031"
      },
      "outputs": [
        {
          "name": "stdout",
          "output_type": "stream",
          "text": [
            "Testing took 33.70395140000073 seconds\n"
          ]
        }
      ],
      "source": [
        "# Test\n",
        "with Timer() as test_time:\n",
        "    all_predictions = surprise_utils.compute_ranking_predictions(svd, train, usercol='userID', itemcol='itemID', remove_seen=True)\n",
        "    \n",
        "print(f\"Testing took {test_time.interval} seconds\")"
      ]
    },
    {
      "cell_type": "code",
      "execution_count": 85,
      "metadata": {
        "colab": {
          "base_uri": "https://localhost:8080/"
        },
        "id": "qpzNPTuPn_s1",
        "outputId": "49ae0494-d66b-4c8b-9952-7ea681f47eb7"
      },
      "outputs": [
        {
          "name": "stdout",
          "output_type": "stream",
          "text": [
            "SVD (Surprise) Top@10 results:\n",
            "----\n",
            "RMSE:\t0.934061\n",
            "NDCG:\t0.116506\n"
          ]
        }
      ],
      "source": [
        "# Evaluate\n",
        "eval_rmse = rmse(test, predictions)\n",
        "eval_ndcg = ndcg_at_k(test, all_predictions, col_prediction='prediction', k=k)\n",
        "\n",
        "print(\"SVD (Surprise) Top@10 results:\")\n",
        "print('----')\n",
        "print(\"RMSE:\\t%f\" % eval_rmse)\n",
        "print(\"NDCG:\\t%f\" % eval_ndcg)"
      ]
    },
    {
      "attachments": {},
      "cell_type": "markdown",
      "metadata": {
        "id": "piFLVG_xlKMs"
      },
      "source": [
        "### SVD++"
      ]
    },
    {
      "cell_type": "code",
      "execution_count": 86,
      "metadata": {
        "id": "jgSFR3ykOhcA"
      },
      "outputs": [],
      "source": [
        "# Hyperparameters\n",
        "n_factors = 20\n",
        "n_epochs = 30"
      ]
    },
    {
      "cell_type": "code",
      "execution_count": 87,
      "metadata": {
        "colab": {
          "base_uri": "https://localhost:8080/"
        },
        "id": "BaZarcJPOiQO",
        "outputId": "31b0ca3f-35e1-4a38-b9f5-64ed36ad9c3c"
      },
      "outputs": [
        {
          "name": "stdout",
          "output_type": "stream",
          "text": [
            " processing epoch 0\n",
            " processing epoch 1\n",
            " processing epoch 2\n",
            " processing epoch 3\n",
            " processing epoch 4\n",
            " processing epoch 5\n",
            " processing epoch 6\n",
            " processing epoch 7\n",
            " processing epoch 8\n",
            " processing epoch 9\n",
            " processing epoch 10\n",
            " processing epoch 11\n",
            " processing epoch 12\n",
            " processing epoch 13\n",
            " processing epoch 14\n",
            " processing epoch 15\n",
            " processing epoch 16\n",
            " processing epoch 17\n",
            " processing epoch 18\n",
            " processing epoch 19\n",
            " processing epoch 20\n",
            " processing epoch 21\n",
            " processing epoch 22\n",
            " processing epoch 23\n",
            " processing epoch 24\n",
            " processing epoch 25\n",
            " processing epoch 26\n",
            " processing epoch 27\n",
            " processing epoch 28\n",
            " processing epoch 29\n",
            "Training took 54.23632120000002 seconds\n"
          ]
        }
      ],
      "source": [
        "# Train\n",
        "svdpp = surprise.SVDpp(random_state=0, n_factors=n_factors, n_epochs=n_epochs, verbose=True)\n",
        "\n",
        "with Timer() as train_time:\n",
        "    svdpp.fit(trainset)\n",
        "\n",
        "print(f\"Training took {train_time.interval} seconds\")"
      ]
    },
    {
      "cell_type": "code",
      "execution_count": 88,
      "metadata": {
        "colab": {
          "base_uri": "https://localhost:8080/",
          "height": 206
        },
        "id": "3xsSjsLSOsCT",
        "outputId": "5699f521-34c7-4215-8cdd-9675cbef5098"
      },
      "outputs": [
        {
          "data": {
            "text/html": [
              "<div>\n",
              "<style scoped>\n",
              "    .dataframe tbody tr th:only-of-type {\n",
              "        vertical-align: middle;\n",
              "    }\n",
              "\n",
              "    .dataframe tbody tr th {\n",
              "        vertical-align: top;\n",
              "    }\n",
              "\n",
              "    .dataframe thead th {\n",
              "        text-align: right;\n",
              "    }\n",
              "</style>\n",
              "<table border=\"1\" class=\"dataframe\">\n",
              "  <thead>\n",
              "    <tr style=\"text-align: right;\">\n",
              "      <th></th>\n",
              "      <th>userID</th>\n",
              "      <th>itemID</th>\n",
              "      <th>prediction</th>\n",
              "    </tr>\n",
              "  </thead>\n",
              "  <tbody>\n",
              "    <tr>\n",
              "      <th>0</th>\n",
              "      <td>130</td>\n",
              "      <td>294</td>\n",
              "      <td>4.076305</td>\n",
              "    </tr>\n",
              "    <tr>\n",
              "      <th>1</th>\n",
              "      <td>361</td>\n",
              "      <td>657</td>\n",
              "      <td>4.430100</td>\n",
              "    </tr>\n",
              "    <tr>\n",
              "      <th>2</th>\n",
              "      <td>916</td>\n",
              "      <td>720</td>\n",
              "      <td>1.926380</td>\n",
              "    </tr>\n",
              "    <tr>\n",
              "      <th>3</th>\n",
              "      <td>488</td>\n",
              "      <td>520</td>\n",
              "      <td>3.834405</td>\n",
              "    </tr>\n",
              "    <tr>\n",
              "      <th>4</th>\n",
              "      <td>221</td>\n",
              "      <td>550</td>\n",
              "      <td>2.947133</td>\n",
              "    </tr>\n",
              "  </tbody>\n",
              "</table>\n",
              "</div>"
            ],
            "text/plain": [
              "   userID  itemID  prediction\n",
              "0     130     294    4.076305\n",
              "1     361     657    4.430100\n",
              "2     916     720    1.926380\n",
              "3     488     520    3.834405\n",
              "4     221     550    2.947133"
            ]
          },
          "execution_count": 88,
          "metadata": {},
          "output_type": "execute_result"
        }
      ],
      "source": [
        "# View results\n",
        "predictions = surprise_utils.predict(svdpp, test, usercol='userID', itemcol='itemID')\n",
        "\n",
        "predictions.head()"
      ]
    },
    {
      "cell_type": "code",
      "execution_count": 89,
      "metadata": {
        "colab": {
          "base_uri": "https://localhost:8080/"
        },
        "id": "jRx3K-vcOzAw",
        "outputId": "61f248c5-b125-4ad8-e5a5-114d6407cae4"
      },
      "outputs": [
        {
          "name": "stdout",
          "output_type": "stream",
          "text": [
            "Testing took 215.69523010000012 seconds\n"
          ]
        }
      ],
      "source": [
        "# Test\n",
        "with Timer() as test_time:\n",
        "    all_predictions = surprise_utils.compute_ranking_predictions(svdpp, train, usercol='userID', itemcol='itemID', remove_seen=True)\n",
        "    \n",
        "print(f\"Testing took {test_time.interval} seconds\")"
      ]
    },
    {
      "cell_type": "code",
      "execution_count": 91,
      "metadata": {
        "colab": {
          "base_uri": "https://localhost:8080/"
        },
        "id": "GQEGiCX9O4Yq",
        "outputId": "23a63037-ad7a-4293-9b6b-b5b82473c3ef"
      },
      "outputs": [
        {
          "name": "stdout",
          "output_type": "stream",
          "text": [
            "SVD++ (Surprise) Top@10 results:\n",
            "----\n",
            "RMSE:\t0.939785\n",
            "NDCG:\t0.115138\n"
          ]
        }
      ],
      "source": [
        "# Evaluate\n",
        "eval_rmse = rmse(test, predictions)\n",
        "eval_ndcg = ndcg_at_k(test, all_predictions, col_prediction='prediction', k=k)\n",
        "\n",
        "print(\"SVD++ (Surprise) Top@10 results:\")\n",
        "print('----')\n",
        "print(\"RMSE:\\t%f\" % eval_rmse)\n",
        "print(\"NDCG:\\t%f\" % eval_ndcg)"
      ]
    },
    {
      "attachments": {},
      "cell_type": "markdown",
      "metadata": {
        "id": "dOyx9XBOPKSA"
      },
      "source": [
        "### NMF"
      ]
    },
    {
      "cell_type": "code",
      "execution_count": 90,
      "metadata": {
        "id": "sLDZ2wQQPX_O"
      },
      "outputs": [],
      "source": [
        "# Hyperparameters\n",
        "n_factors = 20\n",
        "n_epochs = 30"
      ]
    },
    {
      "cell_type": "code",
      "execution_count": 92,
      "metadata": {
        "colab": {
          "base_uri": "https://localhost:8080/"
        },
        "id": "fLgGShLqPjMl",
        "outputId": "e3a735ef-d1d4-473e-d089-d6417734af9f"
      },
      "outputs": [
        {
          "name": "stdout",
          "output_type": "stream",
          "text": [
            "Processing epoch 0\n",
            "Processing epoch 1\n",
            "Processing epoch 2\n",
            "Processing epoch 3\n",
            "Processing epoch 4\n",
            "Processing epoch 5\n",
            "Processing epoch 6\n",
            "Processing epoch 7\n",
            "Processing epoch 8\n",
            "Processing epoch 9\n",
            "Processing epoch 10\n",
            "Processing epoch 11\n",
            "Processing epoch 12\n",
            "Processing epoch 13\n",
            "Processing epoch 14\n",
            "Processing epoch 15\n",
            "Processing epoch 16\n",
            "Processing epoch 17\n",
            "Processing epoch 18\n",
            "Processing epoch 19\n",
            "Processing epoch 20\n",
            "Processing epoch 21\n",
            "Processing epoch 22\n",
            "Processing epoch 23\n",
            "Processing epoch 24\n",
            "Processing epoch 25\n",
            "Processing epoch 26\n",
            "Processing epoch 27\n",
            "Processing epoch 28\n",
            "Processing epoch 29\n",
            "Training took 2.591307599999709 seconds\n"
          ]
        }
      ],
      "source": [
        "# Train\n",
        "nmf = surprise.NMF(random_state=0, n_factors=n_factors, n_epochs=n_epochs, verbose=True)\n",
        "\n",
        "with Timer() as train_time:\n",
        "    nmf.fit(trainset)\n",
        "\n",
        "print(f\"Training took {train_time.interval} seconds\")"
      ]
    },
    {
      "cell_type": "code",
      "execution_count": 93,
      "metadata": {
        "colab": {
          "base_uri": "https://localhost:8080/",
          "height": 206
        },
        "id": "oVZmvdd_PuS5",
        "outputId": "94e527c6-69c1-4df2-9ef6-753cee74ba5c"
      },
      "outputs": [
        {
          "data": {
            "text/html": [
              "<div>\n",
              "<style scoped>\n",
              "    .dataframe tbody tr th:only-of-type {\n",
              "        vertical-align: middle;\n",
              "    }\n",
              "\n",
              "    .dataframe tbody tr th {\n",
              "        vertical-align: top;\n",
              "    }\n",
              "\n",
              "    .dataframe thead th {\n",
              "        text-align: right;\n",
              "    }\n",
              "</style>\n",
              "<table border=\"1\" class=\"dataframe\">\n",
              "  <thead>\n",
              "    <tr style=\"text-align: right;\">\n",
              "      <th></th>\n",
              "      <th>userID</th>\n",
              "      <th>itemID</th>\n",
              "      <th>prediction</th>\n",
              "    </tr>\n",
              "  </thead>\n",
              "  <tbody>\n",
              "    <tr>\n",
              "      <th>0</th>\n",
              "      <td>130</td>\n",
              "      <td>294</td>\n",
              "      <td>4.235743</td>\n",
              "    </tr>\n",
              "    <tr>\n",
              "      <th>1</th>\n",
              "      <td>361</td>\n",
              "      <td>657</td>\n",
              "      <td>4.714417</td>\n",
              "    </tr>\n",
              "    <tr>\n",
              "      <th>2</th>\n",
              "      <td>916</td>\n",
              "      <td>720</td>\n",
              "      <td>3.297722</td>\n",
              "    </tr>\n",
              "    <tr>\n",
              "      <th>3</th>\n",
              "      <td>488</td>\n",
              "      <td>520</td>\n",
              "      <td>3.716121</td>\n",
              "    </tr>\n",
              "    <tr>\n",
              "      <th>4</th>\n",
              "      <td>221</td>\n",
              "      <td>550</td>\n",
              "      <td>4.271358</td>\n",
              "    </tr>\n",
              "  </tbody>\n",
              "</table>\n",
              "</div>"
            ],
            "text/plain": [
              "   userID  itemID  prediction\n",
              "0     130     294    4.235743\n",
              "1     361     657    4.714417\n",
              "2     916     720    3.297722\n",
              "3     488     520    3.716121\n",
              "4     221     550    4.271358"
            ]
          },
          "execution_count": 93,
          "metadata": {},
          "output_type": "execute_result"
        }
      ],
      "source": [
        "# View results\n",
        "predictions = surprise_utils.predict(nmf, test, usercol='userID', itemcol='itemID')\n",
        "\n",
        "predictions.head()"
      ]
    },
    {
      "cell_type": "code",
      "execution_count": 94,
      "metadata": {
        "colab": {
          "base_uri": "https://localhost:8080/"
        },
        "id": "mZ5D0o6CPv6_",
        "outputId": "2be9096a-0b8f-435f-9d4e-19a7b2e29ed4"
      },
      "outputs": [
        {
          "name": "stdout",
          "output_type": "stream",
          "text": [
            "Testing took 27.45095670000046 seconds\n"
          ]
        }
      ],
      "source": [
        "# Test\n",
        "with Timer() as test_time:\n",
        "    all_predictions = surprise_utils.compute_ranking_predictions(nmf, train, usercol='userID', itemcol='itemID', remove_seen=True)\n",
        "    \n",
        "print(f\"Testing took {test_time.interval} seconds\")"
      ]
    },
    {
      "cell_type": "code",
      "execution_count": 95,
      "metadata": {
        "colab": {
          "base_uri": "https://localhost:8080/"
        },
        "id": "5ztloX7fP1MU",
        "outputId": "ac112488-b26a-41c6-9d1b-cf06a4629a99"
      },
      "outputs": [
        {
          "name": "stdout",
          "output_type": "stream",
          "text": [
            "NMF (Surprise) Top@10 results:\n",
            "----\n",
            "RMSE:\t1.015566\n",
            "NDCG:\t0.050782\n"
          ]
        }
      ],
      "source": [
        "# Evaluate\n",
        "eval_rmse = rmse(test, predictions)\n",
        "eval_ndcg = ndcg_at_k(test, all_predictions, col_prediction='prediction', k=k)\n",
        "\n",
        "print(\"NMF (Surprise) Top@10 results:\")\n",
        "print('----')\n",
        "print(\"RMSE:\\t%f\" % eval_rmse)\n",
        "print(\"NDCG:\\t%f\" % eval_ndcg)"
      ]
    },
    {
      "attachments": {},
      "cell_type": "markdown",
      "metadata": {
        "id": "DSeH0KLElBxo"
      },
      "source": [
        "## Cronac Recommenders"
      ]
    },
    {
      "cell_type": "code",
      "execution_count": 96,
      "metadata": {
        "id": "OzWBsJ6lj4Hh"
      },
      "outputs": [],
      "source": [
        "trainset = cornac.data.Dataset.from_uir(train.itertuples(index = False), seed = SEED)"
      ]
    },
    {
      "cell_type": "code",
      "execution_count": null,
      "metadata": {
        "id": "bZLhZXUldWsq"
      },
      "outputs": [],
      "source": [
        "# ratio_split = cornac.eval_methods.RatioSplit(\n",
        "#     data=data,\n",
        "#     test_size=0.2,\n",
        "#     exclude_unknowns=True,\n",
        "#     verbose=True,\n",
        "#     seed=123,\n",
        "#     rating_threshold=0.8,\n",
        "# )"
      ]
    },
    {
      "cell_type": "markdown",
      "metadata": {
        "id": "imQdWV9rlOuT"
      },
      "source": [
        "### MostPop"
      ]
    },
    {
      "cell_type": "code",
      "execution_count": null,
      "metadata": {
        "id": "3q8bAO8jkFhB"
      },
      "outputs": [],
      "source": [
        "# Hyperparameters\n",
        "\n",
        "# None :)"
      ]
    },
    {
      "cell_type": "code",
      "execution_count": 10,
      "metadata": {
        "id": "h_Z7Lq1Ok-DT"
      },
      "outputs": [],
      "source": [
        "most_pop = cornac.models.MostPop()"
      ]
    },
    {
      "cell_type": "code",
      "execution_count": 11,
      "metadata": {
        "colab": {
          "base_uri": "https://localhost:8080/"
        },
        "id": "cux2aliYlHVI",
        "outputId": "39fcbeaa-4a25-46d7-d3c3-69a186b1d438"
      },
      "outputs": [
        {
          "name": "stdout",
          "output_type": "stream",
          "text": [
            "Training took 0.045236100000693114 seconds\n"
          ]
        }
      ],
      "source": [
        "with Timer() as train_time:\n",
        "    most_pop.fit(trainset)\n",
        "\n",
        "print(f\"Training took {train_time.interval} seconds\")"
      ]
    },
    {
      "cell_type": "code",
      "execution_count": 97,
      "metadata": {},
      "outputs": [
        {
          "data": {
            "text/html": [
              "<div>\n",
              "<style scoped>\n",
              "    .dataframe tbody tr th:only-of-type {\n",
              "        vertical-align: middle;\n",
              "    }\n",
              "\n",
              "    .dataframe tbody tr th {\n",
              "        vertical-align: top;\n",
              "    }\n",
              "\n",
              "    .dataframe thead th {\n",
              "        text-align: right;\n",
              "    }\n",
              "</style>\n",
              "<table border=\"1\" class=\"dataframe\">\n",
              "  <thead>\n",
              "    <tr style=\"text-align: right;\">\n",
              "      <th></th>\n",
              "      <th>userID</th>\n",
              "      <th>itemID</th>\n",
              "      <th>prediction</th>\n",
              "    </tr>\n",
              "  </thead>\n",
              "  <tbody>\n",
              "    <tr>\n",
              "      <th>0</th>\n",
              "      <td>130</td>\n",
              "      <td>294</td>\n",
              "      <td>5.0</td>\n",
              "    </tr>\n",
              "    <tr>\n",
              "      <th>1</th>\n",
              "      <td>361</td>\n",
              "      <td>657</td>\n",
              "      <td>5.0</td>\n",
              "    </tr>\n",
              "    <tr>\n",
              "      <th>2</th>\n",
              "      <td>916</td>\n",
              "      <td>720</td>\n",
              "      <td>5.0</td>\n",
              "    </tr>\n",
              "    <tr>\n",
              "      <th>3</th>\n",
              "      <td>488</td>\n",
              "      <td>520</td>\n",
              "      <td>5.0</td>\n",
              "    </tr>\n",
              "    <tr>\n",
              "      <th>4</th>\n",
              "      <td>221</td>\n",
              "      <td>550</td>\n",
              "      <td>5.0</td>\n",
              "    </tr>\n",
              "  </tbody>\n",
              "</table>\n",
              "</div>"
            ],
            "text/plain": [
              "   userID  itemID prediction\n",
              "0     130     294        5.0\n",
              "1     361     657        5.0\n",
              "2     916     720        5.0\n",
              "3     488     520        5.0\n",
              "4     221     550        5.0"
            ]
          },
          "execution_count": 97,
          "metadata": {},
          "output_type": "execute_result"
        }
      ],
      "source": [
        "# View results\n",
        "predictions = cornac_utils.predict(most_pop, test, usercol='userID', itemcol='itemID')\n",
        "\n",
        "predictions.head()"
      ]
    },
    {
      "cell_type": "code",
      "execution_count": 98,
      "metadata": {
        "colab": {
          "base_uri": "https://localhost:8080/"
        },
        "id": "YOwC8Du6lRZK",
        "outputId": "2016abb2-781c-44ad-a2d7-d1def6c1a182"
      },
      "outputs": [
        {
          "name": "stdout",
          "output_type": "stream",
          "text": [
            "Testing took 1.6240087000005587 seconds\n"
          ]
        }
      ],
      "source": [
        "with Timer() as test_time:\n",
        "    all_predictions = cornac_utils.predict_ranking(most_pop, train, usercol='userID', itemcol='itemID', remove_seen=True)\n",
        "    \n",
        "print(f\"Testing took {test_time.interval} seconds\")"
      ]
    },
    {
      "cell_type": "code",
      "execution_count": 99,
      "metadata": {
        "colab": {
          "base_uri": "https://localhost:8080/"
        },
        "id": "zzQNnyKKfamg",
        "outputId": "301a1067-6c2b-44c7-f695-370049ae0ab7"
      },
      "outputs": [
        {
          "name": "stdout",
          "output_type": "stream",
          "text": [
            "MostPop (Cornac) Top@10 results:\n",
            "----\n",
            "RMSE:\t1.829153\n",
            "NDCG:\t0.253725\n"
          ]
        }
      ],
      "source": [
        "# Evaluate\n",
        "eval_rmse = rmse(test, predictions)\n",
        "eval_ndcg = ndcg_at_k(test, all_predictions, col_prediction='prediction', k=k)\n",
        "\n",
        "print(\"MostPop (Cornac) Top@10 results:\")\n",
        "print('----')\n",
        "print(\"RMSE:\\t%f\" % eval_rmse)\n",
        "print(\"NDCG:\\t%f\" % eval_ndcg)\n"
      ]
    },
    {
      "cell_type": "markdown",
      "metadata": {
        "id": "5guACNsilRZZ"
      },
      "source": [
        "## EASE"
      ]
    },
    {
      "cell_type": "code",
      "execution_count": 115,
      "metadata": {
        "id": "beEI2iLNiW2F"
      },
      "outputs": [],
      "source": [
        "# Hyperparameters\n",
        "\n",
        "lamb=500,\n",
        "posB=False"
      ]
    },
    {
      "cell_type": "code",
      "execution_count": 116,
      "metadata": {
        "colab": {
          "base_uri": "https://localhost:8080/",
          "height": 165
        },
        "id": "Aa-8xrHziYfn",
        "outputId": "60ec2dbf-d54f-41fc-c4c8-cdff4d9afde6"
      },
      "outputs": [],
      "source": [
        "sys.path.append('./algorithms')\n",
        "from EASE import EASE\n",
        "\n",
        "ease = EASE(lamb=lamb,posB=posB)"
      ]
    },
    {
      "cell_type": "code",
      "execution_count": 117,
      "metadata": {
        "id": "IgfrVZVciaSW"
      },
      "outputs": [
        {
          "name": "stdout",
          "output_type": "stream",
          "text": [
            "Training took 0.5557379999991099 seconds\n"
          ]
        }
      ],
      "source": [
        "with Timer() as train_time:\n",
        "    ease.fit(trainset)\n",
        "\n",
        "print(f\"Training took {train_time.interval} seconds\")"
      ]
    },
    {
      "cell_type": "code",
      "execution_count": 125,
      "metadata": {},
      "outputs": [
        {
          "data": {
            "text/plain": [
              "943"
            ]
          },
          "execution_count": 125,
          "metadata": {},
          "output_type": "execute_result"
        }
      ],
      "source": [
        "len(most_pop.train_set.uid_map)"
      ]
    },
    {
      "cell_type": "code",
      "execution_count": 121,
      "metadata": {},
      "outputs": [
        {
          "ename": "ValueError",
          "evalue": "The truth value of an array with more than one element is ambiguous. Use a.any() or a.all().",
          "output_type": "error",
          "traceback": [
            "\u001b[0;31m---------------------------------------------------------------------------\u001b[0m",
            "\u001b[0;31mValueError\u001b[0m                                Traceback (most recent call last)",
            "Cell \u001b[0;32mIn[121], line 2\u001b[0m\n\u001b[1;32m      1\u001b[0m \u001b[39m# View results\u001b[39;00m\n\u001b[0;32m----> 2\u001b[0m predictions \u001b[39m=\u001b[39m cornac_utils\u001b[39m.\u001b[39;49mpredict(ease, test, usercol\u001b[39m=\u001b[39;49m\u001b[39m'\u001b[39;49m\u001b[39muserID\u001b[39;49m\u001b[39m'\u001b[39;49m, itemcol\u001b[39m=\u001b[39;49m\u001b[39m'\u001b[39;49m\u001b[39mitemID\u001b[39;49m\u001b[39m'\u001b[39;49m)\n\u001b[1;32m      4\u001b[0m predictions\u001b[39m.\u001b[39mhead()\n",
            "File \u001b[0;32m~/.local/lib/python3.8/site-packages/recommenders/models/cornac/cornac_utils.py:35\u001b[0m, in \u001b[0;36mpredict\u001b[0;34m(model, data, usercol, itemcol, predcol)\u001b[0m\n\u001b[1;32m     33\u001b[0m uid_map \u001b[39m=\u001b[39m model\u001b[39m.\u001b[39mtrain_set\u001b[39m.\u001b[39muid_map\n\u001b[1;32m     34\u001b[0m iid_map \u001b[39m=\u001b[39m model\u001b[39m.\u001b[39mtrain_set\u001b[39m.\u001b[39miid_map\n\u001b[0;32m---> 35\u001b[0m predictions \u001b[39m=\u001b[39m [\n\u001b[1;32m     36\u001b[0m     [\n\u001b[1;32m     37\u001b[0m         \u001b[39mgetattr\u001b[39m(row, usercol),\n\u001b[1;32m     38\u001b[0m         \u001b[39mgetattr\u001b[39m(row, itemcol),\n\u001b[1;32m     39\u001b[0m         model\u001b[39m.\u001b[39mrate(\n\u001b[1;32m     40\u001b[0m             user_idx\u001b[39m=\u001b[39muid_map\u001b[39m.\u001b[39mget(\u001b[39mgetattr\u001b[39m(row, usercol), \u001b[39mlen\u001b[39m(uid_map)),\n\u001b[1;32m     41\u001b[0m             item_idx\u001b[39m=\u001b[39miid_map\u001b[39m.\u001b[39mget(\u001b[39mgetattr\u001b[39m(row, itemcol), \u001b[39mlen\u001b[39m(iid_map)),\n\u001b[1;32m     42\u001b[0m         ),\n\u001b[1;32m     43\u001b[0m     ]\n\u001b[1;32m     44\u001b[0m     \u001b[39mfor\u001b[39;00m row \u001b[39min\u001b[39;00m data\u001b[39m.\u001b[39mitertuples()\n\u001b[1;32m     45\u001b[0m ]\n\u001b[1;32m     46\u001b[0m predictions \u001b[39m=\u001b[39m pd\u001b[39m.\u001b[39mDataFrame(data\u001b[39m=\u001b[39mpredictions, columns\u001b[39m=\u001b[39m[usercol, itemcol, predcol])\n\u001b[1;32m     47\u001b[0m \u001b[39mreturn\u001b[39;00m predictions\n",
            "File \u001b[0;32m~/.local/lib/python3.8/site-packages/recommenders/models/cornac/cornac_utils.py:39\u001b[0m, in \u001b[0;36m<listcomp>\u001b[0;34m(.0)\u001b[0m\n\u001b[1;32m     33\u001b[0m uid_map \u001b[39m=\u001b[39m model\u001b[39m.\u001b[39mtrain_set\u001b[39m.\u001b[39muid_map\n\u001b[1;32m     34\u001b[0m iid_map \u001b[39m=\u001b[39m model\u001b[39m.\u001b[39mtrain_set\u001b[39m.\u001b[39miid_map\n\u001b[1;32m     35\u001b[0m predictions \u001b[39m=\u001b[39m [\n\u001b[1;32m     36\u001b[0m     [\n\u001b[1;32m     37\u001b[0m         \u001b[39mgetattr\u001b[39m(row, usercol),\n\u001b[1;32m     38\u001b[0m         \u001b[39mgetattr\u001b[39m(row, itemcol),\n\u001b[0;32m---> 39\u001b[0m         model\u001b[39m.\u001b[39;49mrate(\n\u001b[1;32m     40\u001b[0m             user_idx\u001b[39m=\u001b[39;49muid_map\u001b[39m.\u001b[39;49mget(\u001b[39mgetattr\u001b[39;49m(row, usercol), \u001b[39mlen\u001b[39;49m(uid_map)),\n\u001b[1;32m     41\u001b[0m             item_idx\u001b[39m=\u001b[39;49miid_map\u001b[39m.\u001b[39;49mget(\u001b[39mgetattr\u001b[39;49m(row, itemcol), \u001b[39mlen\u001b[39;49m(iid_map)),\n\u001b[1;32m     42\u001b[0m         ),\n\u001b[1;32m     43\u001b[0m     ]\n\u001b[1;32m     44\u001b[0m     \u001b[39mfor\u001b[39;00m row \u001b[39min\u001b[39;00m data\u001b[39m.\u001b[39mitertuples()\n\u001b[1;32m     45\u001b[0m ]\n\u001b[1;32m     46\u001b[0m predictions \u001b[39m=\u001b[39m pd\u001b[39m.\u001b[39mDataFrame(data\u001b[39m=\u001b[39mpredictions, columns\u001b[39m=\u001b[39m[usercol, itemcol, predcol])\n\u001b[1;32m     47\u001b[0m \u001b[39mreturn\u001b[39;00m predictions\n",
            "File \u001b[0;32m~/.local/lib/python3.8/site-packages/cornac/models/recommender.py:230\u001b[0m, in \u001b[0;36mRecommender.rate\u001b[0;34m(self, user_idx, item_idx, clipping)\u001b[0m\n\u001b[1;32m    227\u001b[0m     rating_pred \u001b[39m=\u001b[39m \u001b[39mself\u001b[39m\u001b[39m.\u001b[39mdefault_score()\n\u001b[1;32m    229\u001b[0m \u001b[39mif\u001b[39;00m clipping:\n\u001b[0;32m--> 230\u001b[0m     rating_pred \u001b[39m=\u001b[39m clip(\n\u001b[1;32m    231\u001b[0m         values\u001b[39m=\u001b[39;49mrating_pred,\n\u001b[1;32m    232\u001b[0m         lower_bound\u001b[39m=\u001b[39;49m\u001b[39mself\u001b[39;49m\u001b[39m.\u001b[39;49mtrain_set\u001b[39m.\u001b[39;49mmin_rating,\n\u001b[1;32m    233\u001b[0m         upper_bound\u001b[39m=\u001b[39;49m\u001b[39mself\u001b[39;49m\u001b[39m.\u001b[39;49mtrain_set\u001b[39m.\u001b[39;49mmax_rating,\n\u001b[1;32m    234\u001b[0m     )\n\u001b[1;32m    236\u001b[0m \u001b[39mreturn\u001b[39;00m rating_pred\n",
            "File \u001b[0;32m~/.local/lib/python3.8/site-packages/cornac/utils/common.py:92\u001b[0m, in \u001b[0;36mclip\u001b[0;34m(values, lower_bound, upper_bound)\u001b[0m\n\u001b[1;32m     72\u001b[0m \u001b[39mdef\u001b[39;00m \u001b[39mclip\u001b[39m(values, lower_bound, upper_bound):\n\u001b[1;32m     73\u001b[0m \u001b[39m    \u001b[39m\u001b[39m\"\"\"Perform clipping to enforce values to lie\u001b[39;00m\n\u001b[1;32m     74\u001b[0m \u001b[39m    in a specific range [lower_bound, upper_bound]\u001b[39;00m\n\u001b[1;32m     75\u001b[0m \n\u001b[0;32m   (...)\u001b[0m\n\u001b[1;32m     90\u001b[0m \u001b[39m        Clipped values in range [lower_bound, upper_bound]\u001b[39;00m\n\u001b[1;32m     91\u001b[0m \u001b[39m    \"\"\"\u001b[39;00m\n\u001b[0;32m---> 92\u001b[0m     values \u001b[39m=\u001b[39m np\u001b[39m.\u001b[39mwhere(values \u001b[39m>\u001b[39;49m upper_bound, upper_bound, values)\n\u001b[1;32m     93\u001b[0m     values \u001b[39m=\u001b[39m np\u001b[39m.\u001b[39mwhere(values \u001b[39m<\u001b[39m lower_bound, lower_bound, values)\n\u001b[1;32m     95\u001b[0m     \u001b[39mreturn\u001b[39;00m values\n",
            "File \u001b[0;32m~/.local/lib/python3.8/site-packages/scipy/sparse/_base.py:337\u001b[0m, in \u001b[0;36mspmatrix.__bool__\u001b[0;34m(self)\u001b[0m\n\u001b[1;32m    335\u001b[0m     \u001b[39mreturn\u001b[39;00m \u001b[39mself\u001b[39m\u001b[39m.\u001b[39mnnz \u001b[39m!=\u001b[39m \u001b[39m0\u001b[39m\n\u001b[1;32m    336\u001b[0m \u001b[39melse\u001b[39;00m:\n\u001b[0;32m--> 337\u001b[0m     \u001b[39mraise\u001b[39;00m \u001b[39mValueError\u001b[39;00m(\u001b[39m\"\u001b[39m\u001b[39mThe truth value of an array with more than one \u001b[39m\u001b[39m\"\u001b[39m\n\u001b[1;32m    338\u001b[0m                      \u001b[39m\"\u001b[39m\u001b[39melement is ambiguous. Use a.any() or a.all().\u001b[39m\u001b[39m\"\u001b[39m)\n",
            "\u001b[0;31mValueError\u001b[0m: The truth value of an array with more than one element is ambiguous. Use a.any() or a.all()."
          ]
        }
      ],
      "source": [
        "# View results\n",
        "predictions = cornac_utils.predict(ease, test, usercol='userID', itemcol='itemID')\n",
        "\n",
        "predictions.head()"
      ]
    },
    {
      "cell_type": "code",
      "execution_count": 105,
      "metadata": {
        "id": "mPLVfxTRid3T"
      },
      "outputs": [
        {
          "ename": "ValueError",
          "evalue": "All arrays must be of the same length",
          "output_type": "error",
          "traceback": [
            "\u001b[0;31m---------------------------------------------------------------------------\u001b[0m",
            "\u001b[0;31mValueError\u001b[0m                                Traceback (most recent call last)",
            "Cell \u001b[0;32mIn[105], line 2\u001b[0m\n\u001b[1;32m      1\u001b[0m \u001b[39mwith\u001b[39;00m Timer() \u001b[39mas\u001b[39;00m test_time:\n\u001b[0;32m----> 2\u001b[0m     all_predictions \u001b[39m=\u001b[39m predict_ranking(ease, test, usercol\u001b[39m=\u001b[39;49m\u001b[39m'\u001b[39;49m\u001b[39muserID\u001b[39;49m\u001b[39m'\u001b[39;49m, itemcol\u001b[39m=\u001b[39;49m\u001b[39m'\u001b[39;49m\u001b[39mitemID\u001b[39;49m\u001b[39m'\u001b[39;49m, remove_seen\u001b[39m=\u001b[39;49m\u001b[39mTrue\u001b[39;49;00m)\n\u001b[1;32m      4\u001b[0m \u001b[39mprint\u001b[39m(\u001b[39mf\u001b[39m\u001b[39m\"\u001b[39m\u001b[39mTesting took \u001b[39m\u001b[39m{\u001b[39;00mtest_time\u001b[39m.\u001b[39minterval\u001b[39m}\u001b[39;00m\u001b[39m seconds\u001b[39m\u001b[39m\"\u001b[39m)\n",
            "File \u001b[0;32m~/.local/lib/python3.8/site-packages/recommenders/models/cornac/cornac_utils.py:79\u001b[0m, in \u001b[0;36mpredict_ranking\u001b[0;34m(model, data, usercol, itemcol, predcol, remove_seen)\u001b[0m\n\u001b[1;32m     76\u001b[0m     items\u001b[39m.\u001b[39mextend(item)\n\u001b[1;32m     77\u001b[0m     preds\u001b[39m.\u001b[39mextend(model\u001b[39m.\u001b[39mscore(user_idx)\u001b[39m.\u001b[39mtolist())\n\u001b[0;32m---> 79\u001b[0m all_predictions \u001b[39m=\u001b[39m pd\u001b[39m.\u001b[39;49mDataFrame(\n\u001b[1;32m     80\u001b[0m     data\u001b[39m=\u001b[39;49m{usercol: users, itemcol: items, predcol: preds}\n\u001b[1;32m     81\u001b[0m )\n\u001b[1;32m     83\u001b[0m \u001b[39mif\u001b[39;00m remove_seen:\n\u001b[1;32m     84\u001b[0m     tempdf \u001b[39m=\u001b[39m pd\u001b[39m.\u001b[39mconcat(\n\u001b[1;32m     85\u001b[0m         [\n\u001b[1;32m     86\u001b[0m             data[[usercol, itemcol]],\n\u001b[0;32m   (...)\u001b[0m\n\u001b[1;32m     91\u001b[0m         axis\u001b[39m=\u001b[39m\u001b[39m1\u001b[39m,\n\u001b[1;32m     92\u001b[0m     )\n",
            "File \u001b[0;32m~/.local/lib/python3.8/site-packages/pandas/core/frame.py:664\u001b[0m, in \u001b[0;36mDataFrame.__init__\u001b[0;34m(self, data, index, columns, dtype, copy)\u001b[0m\n\u001b[1;32m    658\u001b[0m     mgr \u001b[39m=\u001b[39m \u001b[39mself\u001b[39m\u001b[39m.\u001b[39m_init_mgr(\n\u001b[1;32m    659\u001b[0m         data, axes\u001b[39m=\u001b[39m{\u001b[39m\"\u001b[39m\u001b[39mindex\u001b[39m\u001b[39m\"\u001b[39m: index, \u001b[39m\"\u001b[39m\u001b[39mcolumns\u001b[39m\u001b[39m\"\u001b[39m: columns}, dtype\u001b[39m=\u001b[39mdtype, copy\u001b[39m=\u001b[39mcopy\n\u001b[1;32m    660\u001b[0m     )\n\u001b[1;32m    662\u001b[0m \u001b[39melif\u001b[39;00m \u001b[39misinstance\u001b[39m(data, \u001b[39mdict\u001b[39m):\n\u001b[1;32m    663\u001b[0m     \u001b[39m# GH#38939 de facto copy defaults to False only in non-dict cases\u001b[39;00m\n\u001b[0;32m--> 664\u001b[0m     mgr \u001b[39m=\u001b[39m dict_to_mgr(data, index, columns, dtype\u001b[39m=\u001b[39;49mdtype, copy\u001b[39m=\u001b[39;49mcopy, typ\u001b[39m=\u001b[39;49mmanager)\n\u001b[1;32m    665\u001b[0m \u001b[39melif\u001b[39;00m \u001b[39misinstance\u001b[39m(data, ma\u001b[39m.\u001b[39mMaskedArray):\n\u001b[1;32m    666\u001b[0m     \u001b[39mimport\u001b[39;00m \u001b[39mnumpy\u001b[39;00m\u001b[39m.\u001b[39;00m\u001b[39mma\u001b[39;00m\u001b[39m.\u001b[39;00m\u001b[39mmrecords\u001b[39;00m \u001b[39mas\u001b[39;00m \u001b[39mmrecords\u001b[39;00m\n",
            "File \u001b[0;32m~/.local/lib/python3.8/site-packages/pandas/core/internals/construction.py:493\u001b[0m, in \u001b[0;36mdict_to_mgr\u001b[0;34m(data, index, columns, dtype, typ, copy)\u001b[0m\n\u001b[1;32m    489\u001b[0m     \u001b[39melse\u001b[39;00m:\n\u001b[1;32m    490\u001b[0m         \u001b[39m# dtype check to exclude e.g. range objects, scalars\u001b[39;00m\n\u001b[1;32m    491\u001b[0m         arrays \u001b[39m=\u001b[39m [x\u001b[39m.\u001b[39mcopy() \u001b[39mif\u001b[39;00m \u001b[39mhasattr\u001b[39m(x, \u001b[39m\"\u001b[39m\u001b[39mdtype\u001b[39m\u001b[39m\"\u001b[39m) \u001b[39melse\u001b[39;00m x \u001b[39mfor\u001b[39;00m x \u001b[39min\u001b[39;00m arrays]\n\u001b[0;32m--> 493\u001b[0m \u001b[39mreturn\u001b[39;00m arrays_to_mgr(arrays, columns, index, dtype\u001b[39m=\u001b[39;49mdtype, typ\u001b[39m=\u001b[39;49mtyp, consolidate\u001b[39m=\u001b[39;49mcopy)\n",
            "File \u001b[0;32m~/.local/lib/python3.8/site-packages/pandas/core/internals/construction.py:118\u001b[0m, in \u001b[0;36marrays_to_mgr\u001b[0;34m(arrays, columns, index, dtype, verify_integrity, typ, consolidate)\u001b[0m\n\u001b[1;32m    115\u001b[0m \u001b[39mif\u001b[39;00m verify_integrity:\n\u001b[1;32m    116\u001b[0m     \u001b[39m# figure out the index, if necessary\u001b[39;00m\n\u001b[1;32m    117\u001b[0m     \u001b[39mif\u001b[39;00m index \u001b[39mis\u001b[39;00m \u001b[39mNone\u001b[39;00m:\n\u001b[0;32m--> 118\u001b[0m         index \u001b[39m=\u001b[39m _extract_index(arrays)\n\u001b[1;32m    119\u001b[0m     \u001b[39melse\u001b[39;00m:\n\u001b[1;32m    120\u001b[0m         index \u001b[39m=\u001b[39m ensure_index(index)\n",
            "File \u001b[0;32m~/.local/lib/python3.8/site-packages/pandas/core/internals/construction.py:666\u001b[0m, in \u001b[0;36m_extract_index\u001b[0;34m(data)\u001b[0m\n\u001b[1;32m    664\u001b[0m lengths \u001b[39m=\u001b[39m \u001b[39mlist\u001b[39m(\u001b[39mset\u001b[39m(raw_lengths))\n\u001b[1;32m    665\u001b[0m \u001b[39mif\u001b[39;00m \u001b[39mlen\u001b[39m(lengths) \u001b[39m>\u001b[39m \u001b[39m1\u001b[39m:\n\u001b[0;32m--> 666\u001b[0m     \u001b[39mraise\u001b[39;00m \u001b[39mValueError\u001b[39;00m(\u001b[39m\"\u001b[39m\u001b[39mAll arrays must be of the same length\u001b[39m\u001b[39m\"\u001b[39m)\n\u001b[1;32m    668\u001b[0m \u001b[39mif\u001b[39;00m have_dicts:\n\u001b[1;32m    669\u001b[0m     \u001b[39mraise\u001b[39;00m \u001b[39mValueError\u001b[39;00m(\n\u001b[1;32m    670\u001b[0m         \u001b[39m\"\u001b[39m\u001b[39mMixing dicts with non-Series may lead to ambiguous ordering.\u001b[39m\u001b[39m\"\u001b[39m\n\u001b[1;32m    671\u001b[0m     )\n",
            "\u001b[0;31mValueError\u001b[0m: All arrays must be of the same length"
          ]
        }
      ],
      "source": [
        "with Timer() as test_time:\n",
        "    all_predictions = cornacpredict_ranking(ease, test, usercol='userID', itemcol='itemID', remove_seen=True)\n",
        "    \n",
        "print(f\"Testing took {test_time.interval} seconds\")"
      ]
    },
    {
      "cell_type": "code",
      "execution_count": null,
      "metadata": {
        "id": "CPTnlyORifg1"
      },
      "outputs": [],
      "source": [
        "eval_ndcg = ndcg_at_k(test, all_predictions, col_prediction='prediction', k=k)\n",
        "\n",
        "print(\"MostPop (Cornac) Top@10 results:\")\n",
        "print('----')\n",
        "print(\"NDCG:\\t%f\" % eval_ndcg)"
      ]
    },
    {
      "cell_type": "markdown",
      "metadata": {
        "id": "X39tug-4lT01"
      },
      "source": [
        "## BPR"
      ]
    },
    {
      "cell_type": "code",
      "execution_count": null,
      "metadata": {
        "id": "57z8Of5Jj8hr"
      },
      "outputs": [],
      "source": [
        "bpr = cornac.models.BPR(\n",
        "    k=200,\n",
        "    max_iter=100,\n",
        "    learning_rate=0.01,\n",
        "    lambda_reg=0.001,\n",
        "    verbose=True,\n",
        "    seed=SEED,\n",
        "    \n",
        ")"
      ]
    },
    {
      "cell_type": "code",
      "execution_count": null,
      "metadata": {
        "id": "vEVtODE8kCa8"
      },
      "outputs": [],
      "source": [
        "with Timer() as train_time:\n",
        "    bpr.fit(trainset)\n",
        "\n",
        "print(f\"Training took {train_time.interval} seconds\")"
      ]
    }
  ],
  "metadata": {
    "colab": {
      "provenance": []
    },
    "kernelspec": {
      "display_name": "Python 3",
      "name": "python3"
    },
    "language_info": {
      "codemirror_mode": {
        "name": "ipython",
        "version": 3
      },
      "file_extension": ".py",
      "mimetype": "text/x-python",
      "name": "python",
      "nbconvert_exporter": "python",
      "pygments_lexer": "ipython3",
      "version": "3.8.10"
    }
  },
  "nbformat": 4,
  "nbformat_minor": 0
}
