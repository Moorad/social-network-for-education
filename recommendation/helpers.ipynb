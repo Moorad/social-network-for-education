{
 "cells": [
  {
   "cell_type": "code",
   "execution_count": 1,
   "id": "ad11cfb7",
   "metadata": {},
   "outputs": [
    {
     "name": "stderr",
     "output_type": "stream",
     "text": [
      "/home/moorad/.local/lib/python3.7/site-packages/pandas/compat/__init__.py:124: UserWarning: Could not import the lzma module. Your installed Python is incomplete. Attempting to use lzma compression will result in a RuntimeError.\n",
      "  warnings.warn(msg)\n"
     ]
    }
   ],
   "source": [
    "%run init.ipynb"
   ]
  },
  {
   "cell_type": "code",
   "execution_count": 25,
   "id": "368e87fc",
   "metadata": {},
   "outputs": [],
   "source": [
    "# Download 100k dataset first from https://grouplens.org/datasets/movielens/.\n",
    "# Place unzipped dataset in a folder named \"datasets\" in the current path.\n",
    "# Rename dataset file to \"ml-100k\"\n",
    "\n",
    "def load_ML_100k():\n",
    "    ratings = pd.read_csv(\"datasets/ml-100k/ratings.csv\")\n",
    "    movies = pd.read_csv(\"datasets/ml-100k/movies.csv\")\n",
    "    tags = pd.read_csv(\"datasets/ml-100k/tags.csv\")\n",
    "    \n",
    "    return (ratings, movies, tags)\n"
   ]
  },
  {
   "cell_type": "code",
   "execution_count": 1,
   "id": "1ceb22eb",
   "metadata": {},
   "outputs": [],
   "source": [
    "def filter_df_by_list(original_df, field_name, list):\n",
    "\tdf = pd.DataFrame(data=None, columns=original_df.columns)\n",
    "\t\t\n",
    "\tfor item in list:\n",
    "\t\tdf = pd.merge(df, original_df[original_df[field_name] == item], how='outer' )\n",
    "  \n",
    "\treturn df"
   ]
  }
 ],
 "metadata": {
  "kernelspec": {
   "display_name": "Python 3",
   "language": "python",
   "name": "python3"
  },
  "language_info": {
   "codemirror_mode": {
    "name": "ipython",
    "version": 3
   },
   "file_extension": ".py",
   "mimetype": "text/x-python",
   "name": "python",
   "nbconvert_exporter": "python",
   "pygments_lexer": "ipython3",
   "version": "3.7.9"
  },
  "vscode": {
   "interpreter": {
    "hash": "aee8b7b246df8f9039afb4144a1f6fd8d2ca17a180786b69acc140d282b71a49"
   }
  }
 },
 "nbformat": 4,
 "nbformat_minor": 5
}
